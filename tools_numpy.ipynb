{
  "cells": [
    {
      "cell_type": "markdown",
      "metadata": {
        "id": "view-in-github",
        "colab_type": "text"
      },
      "source": [
        "<a href=\"https://colab.research.google.com/github/sathu0622/DL_Lab-01/blob/main/tools_numpy.ipynb\" target=\"_parent\"><img src=\"https://colab.research.google.com/assets/colab-badge.svg\" alt=\"Open In Colab\"/></a>"
      ]
    },
    {
      "cell_type": "markdown",
      "metadata": {
        "id": "Y1n5xEdyNX9_"
      },
      "source": [
        "**Tools - NumPy**\n",
        "\n",
        "*NumPy is the fundamental library for scientific computing with Python. NumPy is centered around a powerful N-dimensional array object, and it also contains useful linear algebra, Fourier transform, and random number functions.*\n",
        "\n",
        "# Creating arrays\n",
        "First let's make sure that this notebook works both in python 2 and 3:"
      ]
    },
    {
      "cell_type": "code",
      "execution_count": 75,
      "metadata": {
        "collapsed": true,
        "id": "pexLA39WNX-G"
      },
      "outputs": [],
      "source": [
        "from __future__ import division, print_function, unicode_literals"
      ]
    },
    {
      "cell_type": "markdown",
      "metadata": {
        "id": "0Azto2QUNX-I"
      },
      "source": [
        "Now let's import `numpy`. Most people import it as `np`:"
      ]
    },
    {
      "cell_type": "code",
      "execution_count": 76,
      "metadata": {
        "collapsed": true,
        "id": "th4mEaYjNX-J"
      },
      "outputs": [],
      "source": [
        "import numpy as np"
      ]
    },
    {
      "cell_type": "markdown",
      "metadata": {
        "id": "KTzz8RRdNX-J"
      },
      "source": [
        "## `np.zeros`"
      ]
    },
    {
      "cell_type": "markdown",
      "metadata": {
        "id": "mik4Z-mcNX-K"
      },
      "source": [
        "The `zeros` function creates an array containing any number of zeros:"
      ]
    },
    {
      "cell_type": "code",
      "execution_count": 77,
      "metadata": {
        "id": "eyqFtYqxNX-K",
        "outputId": "9bebea92-919e-45cc-a0d8-7597912e5d8f",
        "colab": {
          "base_uri": "https://localhost:8080/"
        }
      },
      "outputs": [
        {
          "output_type": "execute_result",
          "data": {
            "text/plain": [
              "array([0., 0., 0., 0., 0.])"
            ]
          },
          "metadata": {},
          "execution_count": 77
        }
      ],
      "source": [
        "np.zeros(5)"
      ]
    },
    {
      "cell_type": "markdown",
      "metadata": {
        "id": "dFhKqjytNX-M"
      },
      "source": [
        "It's just as easy to create a 2D array (ie. a matrix) by providing a tuple with the desired number of rows and columns. For example, here's a 3x4 matrix:"
      ]
    },
    {
      "cell_type": "code",
      "execution_count": 78,
      "metadata": {
        "id": "05aS66A_NX-M",
        "outputId": "3d34e424-a480-4fad-ef11-523c12fb99a6",
        "colab": {
          "base_uri": "https://localhost:8080/"
        }
      },
      "outputs": [
        {
          "output_type": "execute_result",
          "data": {
            "text/plain": [
              "array([[0., 0., 0., 0.],\n",
              "       [0., 0., 0., 0.],\n",
              "       [0., 0., 0., 0.]])"
            ]
          },
          "metadata": {},
          "execution_count": 78
        }
      ],
      "source": [
        "np.zeros((3,4))"
      ]
    },
    {
      "cell_type": "markdown",
      "metadata": {
        "id": "e79sqj6bNX-O"
      },
      "source": [
        "## Some vocabulary\n",
        "\n",
        "* In NumPy, each dimension is called an **axis**.\n",
        "* The number of axes is called the **rank**.\n",
        "    * For example, the above 3x4 matrix is an array of rank 2 (it is 2-dimensional).\n",
        "    * The first axis has length 3, the second has length 4.\n",
        "* An array's list of axis lengths is called the **shape** of the array.\n",
        "    * For example, the above matrix's shape is `(3, 4)`.\n",
        "    * The rank is equal to the shape's length.\n",
        "* The **size** of an array is the total number of elements, which is the product of all axis lengths (eg. 3*4=12)"
      ]
    },
    {
      "cell_type": "code",
      "execution_count": 79,
      "metadata": {
        "id": "aQOxqfi0NX-P",
        "outputId": "2694fbf5-1ee6-4070-a14d-c82206a15b23",
        "colab": {
          "base_uri": "https://localhost:8080/"
        }
      },
      "outputs": [
        {
          "output_type": "execute_result",
          "data": {
            "text/plain": [
              "array([[0., 0., 0., 0.],\n",
              "       [0., 0., 0., 0.],\n",
              "       [0., 0., 0., 0.]])"
            ]
          },
          "metadata": {},
          "execution_count": 79
        }
      ],
      "source": [
        "a = np.zeros((3,4))\n",
        "a"
      ]
    },
    {
      "cell_type": "code",
      "execution_count": 80,
      "metadata": {
        "id": "OqHbulRxNX-Q",
        "outputId": "4410644e-e56c-4669-f3d5-da011d0d64d4",
        "colab": {
          "base_uri": "https://localhost:8080/"
        }
      },
      "outputs": [
        {
          "output_type": "execute_result",
          "data": {
            "text/plain": [
              "(3, 4)"
            ]
          },
          "metadata": {},
          "execution_count": 80
        }
      ],
      "source": [
        "a.shape"
      ]
    },
    {
      "cell_type": "code",
      "execution_count": 81,
      "metadata": {
        "id": "mENxJwc-NX-R",
        "outputId": "3a37d670-e557-49ff-f54b-6bbfb15b3795",
        "colab": {
          "base_uri": "https://localhost:8080/"
        }
      },
      "outputs": [
        {
          "output_type": "execute_result",
          "data": {
            "text/plain": [
              "2"
            ]
          },
          "metadata": {},
          "execution_count": 81
        }
      ],
      "source": [
        "a.ndim  # equal to len(a.shape)"
      ]
    },
    {
      "cell_type": "code",
      "execution_count": 82,
      "metadata": {
        "id": "DeWgse3-NX-R",
        "outputId": "1bf949f6-61a0-4648-a6d4-95b1b058d9ad",
        "colab": {
          "base_uri": "https://localhost:8080/"
        }
      },
      "outputs": [
        {
          "output_type": "execute_result",
          "data": {
            "text/plain": [
              "12"
            ]
          },
          "metadata": {},
          "execution_count": 82
        }
      ],
      "source": [
        "a.size"
      ]
    },
    {
      "cell_type": "markdown",
      "metadata": {
        "id": "2hmeNsNBNX-S"
      },
      "source": [
        "## N-dimensional arrays\n",
        "You can also create an N-dimensional array of arbitrary rank. For example, here's a 3D array (rank=3), with shape `(2,3,4)`:"
      ]
    },
    {
      "cell_type": "code",
      "execution_count": 83,
      "metadata": {
        "id": "V5CypyiTNX-S",
        "outputId": "ed412c5c-a47b-40ca-a3c8-475fd95dfcd4",
        "colab": {
          "base_uri": "https://localhost:8080/"
        }
      },
      "outputs": [
        {
          "output_type": "execute_result",
          "data": {
            "text/plain": [
              "array([[[0., 0., 0., 0.],\n",
              "        [0., 0., 0., 0.],\n",
              "        [0., 0., 0., 0.]],\n",
              "\n",
              "       [[0., 0., 0., 0.],\n",
              "        [0., 0., 0., 0.],\n",
              "        [0., 0., 0., 0.]]])"
            ]
          },
          "metadata": {},
          "execution_count": 83
        }
      ],
      "source": [
        "np.zeros((2,3,4))"
      ]
    },
    {
      "cell_type": "markdown",
      "metadata": {
        "id": "QCPwykQ3NX-S"
      },
      "source": [
        "## Array type\n",
        "NumPy arrays have the type `ndarray`s:"
      ]
    },
    {
      "cell_type": "code",
      "execution_count": 84,
      "metadata": {
        "id": "8LoxFtfGNX-T",
        "outputId": "0ab37778-f73d-42b8-f30f-efc3fa4ebfda",
        "colab": {
          "base_uri": "https://localhost:8080/"
        }
      },
      "outputs": [
        {
          "output_type": "execute_result",
          "data": {
            "text/plain": [
              "numpy.ndarray"
            ]
          },
          "metadata": {},
          "execution_count": 84
        }
      ],
      "source": [
        "type(np.zeros((3,4)))"
      ]
    },
    {
      "cell_type": "markdown",
      "metadata": {
        "id": "7Ya4c7xlNX-T"
      },
      "source": [
        "## `np.ones`\n",
        "Many other NumPy functions create `ndarrays`.\n",
        "\n",
        "Here's a 3x4 matrix full of ones:"
      ]
    },
    {
      "cell_type": "code",
      "execution_count": 85,
      "metadata": {
        "id": "6qiTG19pNX-T",
        "outputId": "d2fd58bd-0766-46d3-85d3-5f6e8450c93c",
        "colab": {
          "base_uri": "https://localhost:8080/"
        }
      },
      "outputs": [
        {
          "output_type": "execute_result",
          "data": {
            "text/plain": [
              "array([[1., 1., 1., 1.],\n",
              "       [1., 1., 1., 1.],\n",
              "       [1., 1., 1., 1.]])"
            ]
          },
          "metadata": {},
          "execution_count": 85
        }
      ],
      "source": [
        "np.ones((3,4))"
      ]
    },
    {
      "cell_type": "markdown",
      "metadata": {
        "id": "DnWupMZFNX-U"
      },
      "source": [
        "## `np.full`\n",
        "Creates an array of the given shape initialized with the given value. Here's a 3x4 matrix full of `π`."
      ]
    },
    {
      "cell_type": "code",
      "execution_count": 86,
      "metadata": {
        "id": "CBn_2U_9NX-U",
        "outputId": "c96d0fa8-6cfb-496e-e492-8c0fed655a36",
        "colab": {
          "base_uri": "https://localhost:8080/"
        }
      },
      "outputs": [
        {
          "output_type": "execute_result",
          "data": {
            "text/plain": [
              "array([[3.14159265, 3.14159265, 3.14159265, 3.14159265],\n",
              "       [3.14159265, 3.14159265, 3.14159265, 3.14159265],\n",
              "       [3.14159265, 3.14159265, 3.14159265, 3.14159265]])"
            ]
          },
          "metadata": {},
          "execution_count": 86
        }
      ],
      "source": [
        "np.full((3,4), np.pi)"
      ]
    },
    {
      "cell_type": "markdown",
      "metadata": {
        "id": "go3h1DA1NX-W"
      },
      "source": [
        "## `np.empty`\n",
        "An uninitialized 2x3 array (its content is not predictable, as it is whatever is in memory at that point):"
      ]
    },
    {
      "cell_type": "code",
      "execution_count": 87,
      "metadata": {
        "scrolled": true,
        "id": "4geb7s2CNX-W",
        "outputId": "a8fad879-0cc5-487f-d5e5-9900400d06a3",
        "colab": {
          "base_uri": "https://localhost:8080/"
        }
      },
      "outputs": [
        {
          "output_type": "execute_result",
          "data": {
            "text/plain": [
              "array([[0.52858331, 0.04683747, 0.65980715],\n",
              "       [0.95006237, 0.15200909, 0.16423914]])"
            ]
          },
          "metadata": {},
          "execution_count": 87
        }
      ],
      "source": [
        "np.empty((2,3))"
      ]
    },
    {
      "cell_type": "markdown",
      "metadata": {
        "id": "USWtLFfXNX-X"
      },
      "source": [
        "## np.array\n",
        "Of course you can initialize an `ndarray` using a regular python array. Just call the `array` function:"
      ]
    },
    {
      "cell_type": "code",
      "execution_count": 88,
      "metadata": {
        "id": "76dbzd3HNX-X",
        "outputId": "d7d4eba8-4e2f-4ed1-eaf7-9655bd805c4e",
        "colab": {
          "base_uri": "https://localhost:8080/"
        }
      },
      "outputs": [
        {
          "output_type": "execute_result",
          "data": {
            "text/plain": [
              "array([[ 1,  2,  3,  4],\n",
              "       [10, 20, 30, 40]])"
            ]
          },
          "metadata": {},
          "execution_count": 88
        }
      ],
      "source": [
        "np.array([[1,2,3,4], [10, 20, 30, 40]])"
      ]
    },
    {
      "cell_type": "markdown",
      "metadata": {
        "id": "rq0H5peqNX-X"
      },
      "source": [
        "## `np.arange`\n",
        "You can create an `ndarray` using NumPy's `range` function, which is similar to python's built-in `range` function:"
      ]
    },
    {
      "cell_type": "code",
      "execution_count": 89,
      "metadata": {
        "scrolled": true,
        "id": "PAYNe_GoNX-X",
        "outputId": "31c1b157-333e-48bf-e655-5a3668feac65",
        "colab": {
          "base_uri": "https://localhost:8080/"
        }
      },
      "outputs": [
        {
          "output_type": "execute_result",
          "data": {
            "text/plain": [
              "array([1, 2, 3, 4])"
            ]
          },
          "metadata": {},
          "execution_count": 89
        }
      ],
      "source": [
        "np.arange(1, 5)"
      ]
    },
    {
      "cell_type": "markdown",
      "metadata": {
        "id": "3Git4v2KNX-Y"
      },
      "source": [
        "It also works with floats:"
      ]
    },
    {
      "cell_type": "code",
      "execution_count": 90,
      "metadata": {
        "id": "U2kAjhZxNX-Y",
        "outputId": "b6013136-2a55-4711-ed7f-384c1c5596bf",
        "colab": {
          "base_uri": "https://localhost:8080/"
        }
      },
      "outputs": [
        {
          "output_type": "execute_result",
          "data": {
            "text/plain": [
              "array([1., 2., 3., 4.])"
            ]
          },
          "metadata": {},
          "execution_count": 90
        }
      ],
      "source": [
        "np.arange(1.0, 5.0)"
      ]
    },
    {
      "cell_type": "markdown",
      "metadata": {
        "id": "S597BpAcNX-Y"
      },
      "source": [
        "Of course you can provide a step parameter:"
      ]
    },
    {
      "cell_type": "code",
      "execution_count": 91,
      "metadata": {
        "id": "1k-Pa_hENX-Y",
        "outputId": "b2cea086-78c2-446b-8c54-42c50d89d056",
        "colab": {
          "base_uri": "https://localhost:8080/"
        }
      },
      "outputs": [
        {
          "output_type": "execute_result",
          "data": {
            "text/plain": [
              "array([1. , 1.5, 2. , 2.5, 3. , 3.5, 4. , 4.5])"
            ]
          },
          "metadata": {},
          "execution_count": 91
        }
      ],
      "source": [
        "np.arange(1, 5, 0.5)"
      ]
    },
    {
      "cell_type": "markdown",
      "metadata": {
        "id": "ztjyZWV1NX-Z"
      },
      "source": [
        "However, when dealing with floats, the exact number of elements in the array is not always predictible. For example, consider this:"
      ]
    },
    {
      "cell_type": "code",
      "execution_count": 92,
      "metadata": {
        "id": "6x5c6-q0NX-Z",
        "outputId": "d8afbe2d-842c-4c69-8608-43e6353c1f85",
        "colab": {
          "base_uri": "https://localhost:8080/"
        }
      },
      "outputs": [
        {
          "output_type": "stream",
          "name": "stdout",
          "text": [
            "[0.         0.33333333 0.66666667 1.         1.33333333 1.66666667]\n",
            "[0.         0.33333333 0.66666667 1.         1.33333333 1.66666667]\n",
            "[0.         0.33333333 0.66666667 1.         1.33333334]\n"
          ]
        }
      ],
      "source": [
        "print(np.arange(0, 5/3, 1/3)) # depending on floating point errors, the max value is 4/3 or 5/3.\n",
        "print(np.arange(0, 5/3, 0.333333333))\n",
        "print(np.arange(0, 5/3, 0.333333334))\n"
      ]
    },
    {
      "cell_type": "markdown",
      "metadata": {
        "id": "xWmYWw_HNX-Z"
      },
      "source": [
        "## `np.linspace`\n",
        "For this reason, it is generally preferable to use the `linspace` function instead of `arange` when working with floats. The `linspace` function returns an array containing a specific number of points evenly distributed between two values (note that the maximum value is *included*, contrary to `arange`):"
      ]
    },
    {
      "cell_type": "code",
      "execution_count": 93,
      "metadata": {
        "id": "n8--9Z25NX-Z",
        "outputId": "d8a507ab-ff4b-482d-b600-98956348fed0",
        "colab": {
          "base_uri": "https://localhost:8080/"
        }
      },
      "outputs": [
        {
          "output_type": "stream",
          "name": "stdout",
          "text": [
            "[0.         0.33333333 0.66666667 1.         1.33333333 1.66666667]\n"
          ]
        }
      ],
      "source": [
        "print(np.linspace(0, 5/3, 6))"
      ]
    },
    {
      "cell_type": "markdown",
      "metadata": {
        "id": "vKrBPArFNX-a"
      },
      "source": [
        "## `np.rand` and `np.randn`\n",
        "A number of functions are available in NumPy's `random` module to create `ndarray`s initialized with random values.\n",
        "For example, here is a 3x4 matrix initialized with random floats between 0 and 1 (uniform distribution):"
      ]
    },
    {
      "cell_type": "code",
      "execution_count": 94,
      "metadata": {
        "id": "6pK6chqQNX-a",
        "outputId": "e68c95c6-1557-4e50-87ea-c1c59cd3407b",
        "colab": {
          "base_uri": "https://localhost:8080/"
        }
      },
      "outputs": [
        {
          "output_type": "execute_result",
          "data": {
            "text/plain": [
              "array([[0.23186992, 0.49844739, 0.81640576, 0.23139632],\n",
              "       [0.27581874, 0.999738  , 0.96686791, 0.20156035],\n",
              "       [0.58199907, 0.66869524, 0.78676034, 0.96085697]])"
            ]
          },
          "metadata": {},
          "execution_count": 94
        }
      ],
      "source": [
        "np.random.rand(3,4)"
      ]
    },
    {
      "cell_type": "markdown",
      "metadata": {
        "id": "Co-tmfbVNX-a"
      },
      "source": [
        "Here's a 3x4 matrix containing random floats sampled from a univariate [normal distribution](https://en.wikipedia.org/wiki/Normal_distribution) (Gaussian distribution) of mean 0 and variance 1:"
      ]
    },
    {
      "cell_type": "code",
      "execution_count": 95,
      "metadata": {
        "id": "HSh2xOLhNX-a",
        "outputId": "607b22fd-4891-47e3-e55b-9cf209f2b93b",
        "colab": {
          "base_uri": "https://localhost:8080/"
        }
      },
      "outputs": [
        {
          "output_type": "execute_result",
          "data": {
            "text/plain": [
              "array([[-0.20159434,  0.51190143, -1.57011761, -0.54307782],\n",
              "       [ 0.27668637, -1.35046616, -0.54724447,  0.20263249],\n",
              "       [ 1.75946889,  1.13546803, -0.88696476,  0.53974945]])"
            ]
          },
          "metadata": {},
          "execution_count": 95
        }
      ],
      "source": [
        "np.random.randn(3,4)"
      ]
    },
    {
      "cell_type": "markdown",
      "metadata": {
        "id": "JW4oIpCwNX-b"
      },
      "source": [
        "To give you a feel of what these distributions look like, let's use matplotlib (see the [matplotlib tutorial](tools_matplotlib.ipynb) for more details):"
      ]
    },
    {
      "cell_type": "code",
      "execution_count": 96,
      "metadata": {
        "scrolled": false,
        "id": "tmgBsOv_NX-b"
      },
      "outputs": [],
      "source": [
        "%matplotlib inline\n",
        "import matplotlib.pyplot as plt"
      ]
    },
    {
      "cell_type": "code",
      "execution_count": 97,
      "metadata": {
        "id": "sdJhBBJBNX-b",
        "outputId": "2fe8ae54-86e9-4ec3-ef2c-7b4098718b10",
        "colab": {
          "base_uri": "https://localhost:8080/",
          "height": 472
        }
      },
      "outputs": [
        {
          "output_type": "display_data",
          "data": {
            "text/plain": [
              "<Figure size 640x480 with 1 Axes>"
            ],
            "image/png": "[encoded data removed]"
          },
          "metadata": {}
        }
      ],
      "source": [
        "import matplotlib.pyplot as plt\n",
        "import numpy as np\n",
        "\n",
        "plt.hist(np.random.rand(100000), density=True, bins=100, histtype=\"step\", color=\"blue\", label=\"rand\")\n",
        "plt.hist(np.random.randn(100000), density=True, bins=100, histtype=\"step\", color=\"red\", label=\"randn\")\n",
        "plt.axis([-2.5, 2.5, 0, 1.1])\n",
        "plt.legend(loc=\"upper left\")\n",
        "plt.title(\"Random distributions\")\n",
        "plt.xlabel(\"Value\")\n",
        "plt.ylabel(\"Density\")\n",
        "plt.show()\n"
      ]
    },
    {
      "cell_type": "markdown",
      "metadata": {
        "id": "7F3_dEnKNX-b"
      },
      "source": [
        "## np.fromfunction\n",
        "You can also initialize an `ndarray` using a function:"
      ]
    },
    {
      "cell_type": "code",
      "execution_count": 98,
      "metadata": {
        "id": "JBtw85JGNX-c",
        "outputId": "350e2db9-c031-456e-c89f-c096907e7fe0",
        "colab": {
          "base_uri": "https://localhost:8080/"
        }
      },
      "outputs": [
        {
          "output_type": "execute_result",
          "data": {
            "text/plain": [
              "array([[[ 0.,  0.,  0.,  0.,  0.,  0.,  0.,  0.,  0.,  0.],\n",
              "        [ 0.,  1.,  2.,  3.,  4.,  5.,  6.,  7.,  8.,  9.]],\n",
              "\n",
              "       [[ 1.,  1.,  1.,  1.,  1.,  1.,  1.,  1.,  1.,  1.],\n",
              "        [ 1.,  2.,  3.,  4.,  5.,  6.,  7.,  8.,  9., 10.]],\n",
              "\n",
              "       [[ 2.,  2.,  2.,  2.,  2.,  2.,  2.,  2.,  2.,  2.],\n",
              "        [ 2.,  3.,  4.,  5.,  6.,  7.,  8.,  9., 10., 11.]]])"
            ]
          },
          "metadata": {},
          "execution_count": 98
        }
      ],
      "source": [
        "def my_function(z, y, x):\n",
        "    return x * y + z\n",
        "\n",
        "np.fromfunction(my_function, (3, 2, 10))"
      ]
    },
    {
      "cell_type": "markdown",
      "metadata": {
        "id": "Gzr39gelNX-c"
      },
      "source": [
        "NumPy first creates three `ndarrays` (one per dimension), each of shape `(3, 2, 10)`. Each array has values equal to the coordinate along a specific axis. For example, all elements in the `z` array are equal to their z-coordinate:\n",
        "\n",
        "    [[[ 0.  0.  0.  0.  0.  0.  0.  0.  0.  0.]\n",
        "      [ 0.  0.  0.  0.  0.  0.  0.  0.  0.  0.]]\n",
        "    \n",
        "     [[ 1.  1.  1.  1.  1.  1.  1.  1.  1.  1.]\n",
        "      [ 1.  1.  1.  1.  1.  1.  1.  1.  1.  1.]]\n",
        "    \n",
        "     [[ 2.  2.  2.  2.  2.  2.  2.  2.  2.  2.]\n",
        "      [ 2.  2.  2.  2.  2.  2.  2.  2.  2.  2.]]]\n",
        "\n",
        "So the terms x, y and z in the expression `x * y + z` above are in fact `ndarray`s (we will discuss arithmetic operations on arrays below).  The point is that the function `my_function` is only called *once*, instead of once per element. This makes initialization very efficient."
      ]
    },
    {
      "cell_type": "markdown",
      "metadata": {
        "id": "U1f3d4YHNX-c"
      },
      "source": [
        "# Array data\n",
        "## `dtype`\n",
        "NumPy's `ndarray`s are also efficient in part because all their elements must have the same type (usually numbers).\n",
        "You can check what the data type is by looking at the `dtype` attribute:"
      ]
    },
    {
      "cell_type": "code",
      "execution_count": 99,
      "metadata": {
        "scrolled": true,
        "id": "3eETb4OBNX-d",
        "outputId": "bf970a7d-716d-42fe-f44e-ccaded2904e1",
        "colab": {
          "base_uri": "https://localhost:8080/"
        }
      },
      "outputs": [
        {
          "output_type": "stream",
          "name": "stdout",
          "text": [
            "int64 [1 2 3 4]\n"
          ]
        }
      ],
      "source": [
        "c = np.arange(1, 5)\n",
        "print(c.dtype, c)"
      ]
    },
    {
      "cell_type": "code",
      "execution_count": 100,
      "metadata": {
        "id": "iqBhJ-gNNX-d",
        "outputId": "0e3f8be5-85a1-4424-c39d-a814529e3f4c",
        "colab": {
          "base_uri": "https://localhost:8080/"
        }
      },
      "outputs": [
        {
          "output_type": "stream",
          "name": "stdout",
          "text": [
            "float64 [1. 2. 3. 4.]\n"
          ]
        }
      ],
      "source": [
        "c = np.arange(1.0, 5.0)\n",
        "print(c.dtype, c)"
      ]
    },
    {
      "cell_type": "markdown",
      "metadata": {
        "id": "ALzjkt-KNX-d"
      },
      "source": [
        "Instead of letting NumPy guess what data type to use, you can set it explicitly when creating an array by setting the `dtype` parameter:"
      ]
    },
    {
      "cell_type": "code",
      "execution_count": 101,
      "metadata": {
        "id": "sqxZhIAGNX-e",
        "outputId": "e2c02391-6981-41b1-cca5-8a28cf3e1571",
        "colab": {
          "base_uri": "https://localhost:8080/"
        }
      },
      "outputs": [
        {
          "output_type": "stream",
          "name": "stdout",
          "text": [
            "complex64 [1.+0.j 2.+0.j 3.+0.j 4.+0.j]\n"
          ]
        }
      ],
      "source": [
        "d = np.arange(1, 5, dtype=np.complex64)\n",
        "print(d.dtype, d)"
      ]
    },
    {
      "cell_type": "markdown",
      "metadata": {
        "id": "hIpHosZmNX-e"
      },
      "source": [
        "Available data types include `int8`, `int16`, `int32`, `int64`, `uint8`|`16`|`32`|`64`, `float16`|`32`|`64` and `complex64`|`128`. Check out [the documentation](http://docs.scipy.org/doc/numpy-1.10.1/user/basics.types.html) for the full list.\n",
        "\n",
        "## `itemsize`\n",
        "The `itemsize` attribute returns the size (in bytes) of each item:"
      ]
    },
    {
      "cell_type": "code",
      "execution_count": 102,
      "metadata": {
        "id": "XZDxXSvENX-f",
        "outputId": "56f6ccb5-0e2c-41fe-8392-05e27b20a440",
        "colab": {
          "base_uri": "https://localhost:8080/"
        }
      },
      "outputs": [
        {
          "output_type": "execute_result",
          "data": {
            "text/plain": [
              "8"
            ]
          },
          "metadata": {},
          "execution_count": 102
        }
      ],
      "source": [
        "e = np.arange(1, 5, dtype=np.complex64)\n",
        "e.itemsize"
      ]
    },
    {
      "cell_type": "markdown",
      "metadata": {
        "id": "hraBv7HjNX-f"
      },
      "source": [
        "## `data` buffer\n",
        "An array's data is actually stored in memory as a flat (one dimensional) byte buffer. It is available *via* the `data` attribute (you will rarely need it, though)."
      ]
    },
    {
      "cell_type": "code",
      "execution_count": 103,
      "metadata": {
        "scrolled": false,
        "id": "RMFj1P2CNX-f",
        "outputId": "7766fd03-50a8-4173-b159-8f42ed0e9a31",
        "colab": {
          "base_uri": "https://localhost:8080/"
        }
      },
      "outputs": [
        {
          "output_type": "execute_result",
          "data": {
            "text/plain": [
              "<memory at 0x7b87f6bbdbe0>"
            ]
          },
          "metadata": {},
          "execution_count": 103
        }
      ],
      "source": [
        "f = np.array([[1,2],[1000, 2000]], dtype=np.int32)\n",
        "f.data"
      ]
    },
    {
      "cell_type": "markdown",
      "metadata": {
        "id": "TkrM0DOMNX-g"
      },
      "source": [
        "In python 2, `f.data` is a buffer. In python 3, it is a memoryview."
      ]
    },
    {
      "cell_type": "code",
      "execution_count": 104,
      "metadata": {
        "id": "6Ax7f5eANX-g",
        "outputId": "2505a8ab-65d0-40df-93ac-f22c153ca3e0",
        "colab": {
          "base_uri": "https://localhost:8080/"
        }
      },
      "outputs": [
        {
          "output_type": "execute_result",
          "data": {
            "text/plain": [
              "b'\\x01\\x00\\x00\\x00\\x02\\x00\\x00\\x00\\xe8\\x03\\x00\\x00\\xd0\\x07\\x00\\x00'"
            ]
          },
          "metadata": {},
          "execution_count": 104
        }
      ],
      "source": [
        "if (hasattr(f.data, \"tobytes\")):\n",
        "    data_bytes = f.data.tobytes() # python 3\n",
        "else:\n",
        "    data_bytes = memoryview(f.data).tobytes() # python 2\n",
        "\n",
        "data_bytes"
      ]
    },
    {
      "cell_type": "markdown",
      "metadata": {
        "id": "CUfXgUf7NX-g"
      },
      "source": [
        "Several `ndarrays` can share the same data buffer, meaning that modifying one will also modify the others. We will see an example in a minute."
      ]
    },
    {
      "cell_type": "markdown",
      "metadata": {
        "id": "HxoTqObCNX-g"
      },
      "source": [
        "# Reshaping an array\n",
        "## In place\n",
        "Changing the shape of an `ndarray` is as simple as setting its `shape` attribute. However, the array's size must remain the same."
      ]
    },
    {
      "cell_type": "code",
      "execution_count": 105,
      "metadata": {
        "id": "7OMa1q-oNX-h",
        "outputId": "0cd1c731-22c4-41ce-c336-9910c2ddae28",
        "colab": {
          "base_uri": "https://localhost:8080/"
        }
      },
      "outputs": [
        {
          "output_type": "stream",
          "name": "stdout",
          "text": [
            "[ 0  1  2  3  4  5  6  7  8  9 10 11 12 13 14 15 16 17 18 19 20 21 22 23]\n",
            "Rank: 1\n"
          ]
        }
      ],
      "source": [
        "g = np.arange(24)\n",
        "print(g)\n",
        "print(\"Rank:\", g.ndim)"
      ]
    },
    {
      "cell_type": "code",
      "execution_count": 106,
      "metadata": {
        "id": "FxK9eZg9NX-h",
        "outputId": "2097401a-b4fe-411c-d9a3-81e90c134af9",
        "colab": {
          "base_uri": "https://localhost:8080/"
        }
      },
      "outputs": [
        {
          "output_type": "stream",
          "name": "stdout",
          "text": [
            "[[ 0  1  2  3]\n",
            " [ 4  5  6  7]\n",
            " [ 8  9 10 11]\n",
            " [12 13 14 15]\n",
            " [16 17 18 19]\n",
            " [20 21 22 23]]\n",
            "Rank: 2\n"
          ]
        }
      ],
      "source": [
        "g.shape = (6, 4)\n",
        "print(g)\n",
        "print(\"Rank:\", g.ndim)"
      ]
    },
    {
      "cell_type": "code",
      "execution_count": 107,
      "metadata": {
        "scrolled": true,
        "id": "TN8AUfVaNX-h",
        "outputId": "f20fee2c-d146-4964-ac00-3dc271a6e991",
        "colab": {
          "base_uri": "https://localhost:8080/"
        }
      },
      "outputs": [
        {
          "output_type": "stream",
          "name": "stdout",
          "text": [
            "[[[ 0  1  2  3]\n",
            "  [ 4  5  6  7]\n",
            "  [ 8  9 10 11]]\n",
            "\n",
            " [[12 13 14 15]\n",
            "  [16 17 18 19]\n",
            "  [20 21 22 23]]]\n",
            "Rank: 3\n"
          ]
        }
      ],
      "source": [
        "g.shape = (2, 3, 4)\n",
        "print(g)\n",
        "print(\"Rank:\", g.ndim)"
      ]
    },
    {
      "cell_type": "markdown",
      "metadata": {
        "id": "noBgTB3bNX-h"
      },
      "source": [
        "## `reshape`\n",
        "The `reshape` function returns a new `ndarray` object pointing at the *same* data. This means that modifying one array will also modify the other."
      ]
    },
    {
      "cell_type": "code",
      "execution_count": 108,
      "metadata": {
        "scrolled": true,
        "id": "ac6KH9eqNX-h",
        "outputId": "cf023c38-0385-43ab-aa32-37f6144d0ff5",
        "colab": {
          "base_uri": "https://localhost:8080/"
        }
      },
      "outputs": [
        {
          "output_type": "stream",
          "name": "stdout",
          "text": [
            "[[ 0  1  2  3  4  5]\n",
            " [ 6  7  8  9 10 11]\n",
            " [12 13 14 15 16 17]\n",
            " [18 19 20 21 22 23]]\n",
            "Rank: 2\n"
          ]
        }
      ],
      "source": [
        "g2 = g.reshape(4,6)\n",
        "print(g2)\n",
        "print(\"Rank:\", g2.ndim)"
      ]
    },
    {
      "cell_type": "markdown",
      "metadata": {
        "id": "0I4speVPNX-i"
      },
      "source": [
        "Set item at row 1, col 2 to 999 (more about indexing below)."
      ]
    },
    {
      "cell_type": "code",
      "execution_count": 109,
      "metadata": {
        "id": "uDk6mw0nNX-i",
        "outputId": "4d7ae108-85d1-4fe2-bb97-254fe7d625fa",
        "colab": {
          "base_uri": "https://localhost:8080/"
        }
      },
      "outputs": [
        {
          "output_type": "execute_result",
          "data": {
            "text/plain": [
              "array([[  0,   1,   2,   3,   4,   5],\n",
              "       [  6,   7, 999,   9,  10,  11],\n",
              "       [ 12,  13,  14,  15,  16,  17],\n",
              "       [ 18,  19,  20,  21,  22,  23]])"
            ]
          },
          "metadata": {},
          "execution_count": 109
        }
      ],
      "source": [
        "g2[1, 2] = 999\n",
        "g2"
      ]
    },
    {
      "cell_type": "markdown",
      "metadata": {
        "id": "Va8oB5hgNX-i"
      },
      "source": [
        "The corresponding element in `g` has been modified."
      ]
    },
    {
      "cell_type": "code",
      "execution_count": 110,
      "metadata": {
        "id": "Fhn-8E7XNX-i",
        "outputId": "38c2899f-94a4-4f20-c071-242f305db954",
        "colab": {
          "base_uri": "https://localhost:8080/"
        }
      },
      "outputs": [
        {
          "output_type": "execute_result",
          "data": {
            "text/plain": [
              "array([[[  0,   1,   2,   3],\n",
              "        [  4,   5,   6,   7],\n",
              "        [999,   9,  10,  11]],\n",
              "\n",
              "       [[ 12,  13,  14,  15],\n",
              "        [ 16,  17,  18,  19],\n",
              "        [ 20,  21,  22,  23]]])"
            ]
          },
          "metadata": {},
          "execution_count": 110
        }
      ],
      "source": [
        "g"
      ]
    },
    {
      "cell_type": "markdown",
      "metadata": {
        "id": "99fiqUdiNX-j"
      },
      "source": [
        "## `ravel`\n",
        "Finally, the `ravel` function returns a new one-dimensional `ndarray` that also points to the same data:"
      ]
    },
    {
      "cell_type": "code",
      "execution_count": 111,
      "metadata": {
        "id": "WMeJgE9ANX-j",
        "outputId": "f1d9d9ce-6358-4f1c-eb5d-6aeb8c379df5",
        "colab": {
          "base_uri": "https://localhost:8080/"
        }
      },
      "outputs": [
        {
          "output_type": "execute_result",
          "data": {
            "text/plain": [
              "array([  0,   1,   2,   3,   4,   5,   6,   7, 999,   9,  10,  11,  12,\n",
              "        13,  14,  15,  16,  17,  18,  19,  20,  21,  22,  23])"
            ]
          },
          "metadata": {},
          "execution_count": 111
        }
      ],
      "source": [
        "g.ravel()"
      ]
    },
    {
      "cell_type": "markdown",
      "metadata": {
        "id": "mUHsKqPnNX-j"
      },
      "source": [
        "# Arithmetic operations\n",
        "All the usual arithmetic operators (`+`, `-`, `*`, `/`, `//`, `**`, etc.) can be used with `ndarray`s. They apply *elementwise*:"
      ]
    },
    {
      "cell_type": "code",
      "execution_count": 112,
      "metadata": {
        "scrolled": false,
        "id": "j0Ft4NCaNX-j",
        "outputId": "47491031-d155-4b25-8690-a7481621c329",
        "colab": {
          "base_uri": "https://localhost:8080/"
        }
      },
      "outputs": [
        {
          "output_type": "stream",
          "name": "stdout",
          "text": [
            "a + b  = [19 27 35 43]\n",
            "a - b  = [ 9 19 29 39]\n",
            "a * b  = [70 92 96 82]\n",
            "a / b  = [ 2.8         5.75       10.66666667 20.5       ]\n",
            "a // b  = [ 2  5 10 20]\n",
            "a % b  = [4 3 2 1]\n",
            "a ** b = [537824 279841  32768   1681]\n"
          ]
        }
      ],
      "source": [
        "a = np.array([14, 23, 32, 41])\n",
        "b = np.array([5,  4,  3,  2])\n",
        "print(\"a + b  =\", a + b)\n",
        "print(\"a - b  =\", a - b)\n",
        "print(\"a * b  =\", a * b)\n",
        "print(\"a / b  =\", a / b)\n",
        "print(\"a // b  =\", a // b)\n",
        "print(\"a % b  =\", a % b)\n",
        "print(\"a ** b =\", a ** b)"
      ]
    },
    {
      "cell_type": "markdown",
      "metadata": {
        "id": "cbrnXVQ0NX-j"
      },
      "source": [
        "Note that the multiplication is *not* a matrix multiplication. We will discuss matrix operations below.\n",
        "\n",
        "The arrays must have the same shape. If they do not, NumPy will apply the *broadcasting rules*."
      ]
    },
    {
      "cell_type": "markdown",
      "metadata": {
        "id": "k0_Dn5_gNX-k"
      },
      "source": [
        "# Broadcasting"
      ]
    },
    {
      "cell_type": "markdown",
      "metadata": {
        "id": "yMFdWHfTNX-k"
      },
      "source": [
        "In general, when NumPy expects arrays of the same shape but finds that this is not the case, it applies the so-called *broadcasting* rules:\n",
        "\n",
        "## First rule\n",
        "*If the arrays do not have the same rank, then a 1 will be prepended to the smaller ranking arrays until their ranks match.*"
      ]
    },
    {
      "cell_type": "code",
      "execution_count": 113,
      "metadata": {
        "id": "lWJaT9TINX-k",
        "outputId": "ffa73aaa-6202-4a07-c047-962270aaf760",
        "colab": {
          "base_uri": "https://localhost:8080/"
        }
      },
      "outputs": [
        {
          "output_type": "execute_result",
          "data": {
            "text/plain": [
              "array([[[0, 1, 2, 3, 4]]])"
            ]
          },
          "metadata": {},
          "execution_count": 113
        }
      ],
      "source": [
        "h = np.arange(5).reshape(1, 1, 5)\n",
        "h"
      ]
    },
    {
      "cell_type": "markdown",
      "metadata": {
        "id": "qySaSFEnNX-k"
      },
      "source": [
        "Now let's try to add a 1D array of shape `(5,)` to this 3D array of shape `(1,1,5)`. Applying the first rule of broadcasting!"
      ]
    },
    {
      "cell_type": "code",
      "execution_count": 114,
      "metadata": {
        "id": "Ovq3rZZNNX-k",
        "outputId": "a49d71a0-f1f7-4d40-ce5e-b71bd3dc2c9a",
        "colab": {
          "base_uri": "https://localhost:8080/"
        }
      },
      "outputs": [
        {
          "output_type": "execute_result",
          "data": {
            "text/plain": [
              "array([[[10, 21, 32, 43, 54]]])"
            ]
          },
          "metadata": {},
          "execution_count": 114
        }
      ],
      "source": [
        "h + [10, 20, 30, 40, 50]  # same as: h + [[[10, 20, 30, 40, 50]]]"
      ]
    },
    {
      "cell_type": "markdown",
      "metadata": {
        "id": "iYpR9XiWNX-l"
      },
      "source": [
        "## Second rule\n",
        "*Arrays with a 1 along a particular dimension act as if they had the size of the array with the largest shape along that dimension. The value of the array element is repeated along that dimension.*"
      ]
    },
    {
      "cell_type": "code",
      "execution_count": 115,
      "metadata": {
        "id": "vWDs5PNfNX-l",
        "outputId": "160f8713-afda-4473-dd9c-a830b90e3055",
        "colab": {
          "base_uri": "https://localhost:8080/"
        }
      },
      "outputs": [
        {
          "output_type": "execute_result",
          "data": {
            "text/plain": [
              "array([[0, 1, 2],\n",
              "       [3, 4, 5]])"
            ]
          },
          "metadata": {},
          "execution_count": 115
        }
      ],
      "source": [
        "k = np.arange(6).reshape(2, 3)\n",
        "k"
      ]
    },
    {
      "cell_type": "markdown",
      "metadata": {
        "id": "p-IdTc01NX-l"
      },
      "source": [
        "Let's try to add a 2D array of shape `(2,1)` to this 2D `ndarray` of shape `(2, 3)`. NumPy will apply the second rule of broadcasting:"
      ]
    },
    {
      "cell_type": "code",
      "execution_count": 116,
      "metadata": {
        "id": "XHsInFE6NX-l",
        "outputId": "9864c56f-0e95-41af-90a4-4788fdb8fdb5",
        "colab": {
          "base_uri": "https://localhost:8080/"
        }
      },
      "outputs": [
        {
          "output_type": "execute_result",
          "data": {
            "text/plain": [
              "array([[100, 101, 102],\n",
              "       [203, 204, 205]])"
            ]
          },
          "metadata": {},
          "execution_count": 116
        }
      ],
      "source": [
        "k + [[100], [200]]  # same as: k + [[100, 100, 100], [200, 200, 200]]"
      ]
    },
    {
      "cell_type": "markdown",
      "metadata": {
        "id": "-I3aok6jNX-m"
      },
      "source": [
        "Combining rules 1 & 2, we can do this:"
      ]
    },
    {
      "cell_type": "code",
      "execution_count": 117,
      "metadata": {
        "id": "qBn5AW0JNX-m",
        "outputId": "ca17669e-185c-4096-a973-43dedd2e65f1",
        "colab": {
          "base_uri": "https://localhost:8080/"
        }
      },
      "outputs": [
        {
          "output_type": "execute_result",
          "data": {
            "text/plain": [
              "array([[100, 201, 302],\n",
              "       [103, 204, 305]])"
            ]
          },
          "metadata": {},
          "execution_count": 117
        }
      ],
      "source": [
        "k + [100, 200, 300]  # after rule 1: [[100, 200, 300]], and after rule 2: [[100, 200, 300], [100, 200, 300]]"
      ]
    },
    {
      "cell_type": "markdown",
      "metadata": {
        "id": "lE_AwuCwNX-m"
      },
      "source": [
        "And also, very simply:"
      ]
    },
    {
      "cell_type": "code",
      "execution_count": 118,
      "metadata": {
        "id": "8iZYSuZoNX-m",
        "outputId": "f67aa2d0-f9db-402c-c96d-1a92113145e3",
        "colab": {
          "base_uri": "https://localhost:8080/"
        }
      },
      "outputs": [
        {
          "output_type": "execute_result",
          "data": {
            "text/plain": [
              "array([[1000, 1001, 1002],\n",
              "       [1003, 1004, 1005]])"
            ]
          },
          "metadata": {},
          "execution_count": 118
        }
      ],
      "source": [
        "k + 1000  # same as: k + [[1000, 1000, 1000], [1000, 1000, 1000]]"
      ]
    },
    {
      "cell_type": "markdown",
      "metadata": {
        "id": "V9foyFk4NX-m"
      },
      "source": [
        "## Third rule\n",
        "*After rules 1 & 2, the sizes of all arrays must match.*"
      ]
    },
    {
      "cell_type": "code",
      "execution_count": 119,
      "metadata": {
        "id": "K-PXOE6ANX-n",
        "outputId": "2cba0147-2d01-4816-a41b-6bd0f95b0645",
        "colab": {
          "base_uri": "https://localhost:8080/"
        }
      },
      "outputs": [
        {
          "output_type": "stream",
          "name": "stdout",
          "text": [
            "operands could not be broadcast together with shapes (2,3) (2,) \n"
          ]
        }
      ],
      "source": [
        "try:\n",
        "    k + [33, 44]\n",
        "except ValueError as e:\n",
        "    print(e)"
      ]
    },
    {
      "cell_type": "markdown",
      "metadata": {
        "id": "u4v09OPiNX-n"
      },
      "source": [
        "Broadcasting rules are used in many NumPy operations, not just arithmetic operations, as we will see below.\n",
        "For more details about broadcasting, check out [the documentation](https://docs.scipy.org/doc/numpy-dev/user/basics.broadcasting.html)."
      ]
    },
    {
      "cell_type": "markdown",
      "metadata": {
        "id": "kBvSQSmTNX-n"
      },
      "source": [
        "## Upcasting\n",
        "When trying to combine arrays with different `dtype`s, NumPy will *upcast* to a type capable of handling all possible values (regardless of what the *actual* values are)."
      ]
    },
    {
      "cell_type": "code",
      "execution_count": 120,
      "metadata": {
        "id": "_3Q8cIBwNX-n",
        "outputId": "cdb1ea19-a1e4-4b1e-865e-2758bcd57245",
        "colab": {
          "base_uri": "https://localhost:8080/"
        }
      },
      "outputs": [
        {
          "output_type": "stream",
          "name": "stdout",
          "text": [
            "uint8 [0 1 2 3 4]\n"
          ]
        }
      ],
      "source": [
        "k1 = np.arange(0, 5, dtype=np.uint8)\n",
        "print(k1.dtype, k1)"
      ]
    },
    {
      "cell_type": "code",
      "execution_count": 121,
      "metadata": {
        "id": "YNf6iNPONX-n",
        "outputId": "83a06453-aa5a-4aa0-9025-37d5df0cfea1",
        "colab": {
          "base_uri": "https://localhost:8080/"
        }
      },
      "outputs": [
        {
          "output_type": "stream",
          "name": "stdout",
          "text": [
            "int16 [ 5  7  9 11 13]\n"
          ]
        }
      ],
      "source": [
        "k2 = k1 + np.array([5, 6, 7, 8, 9], dtype=np.int8)\n",
        "print(k2.dtype, k2)"
      ]
    },
    {
      "cell_type": "markdown",
      "metadata": {
        "id": "YuJzZIHgNX-o"
      },
      "source": [
        "Note that `int16` is required to represent all *possible* `int8` and `uint8` values (from -128 to 255), even though in this case a uint8 would have sufficed."
      ]
    },
    {
      "cell_type": "code",
      "execution_count": 122,
      "metadata": {
        "id": "fg8OM9L_NX-o",
        "outputId": "38a52c5b-487e-46ce-be82-143fe6c3be05",
        "colab": {
          "base_uri": "https://localhost:8080/"
        }
      },
      "outputs": [
        {
          "output_type": "stream",
          "name": "stdout",
          "text": [
            "float64 [1.5 2.5 3.5 4.5 5.5]\n"
          ]
        }
      ],
      "source": [
        "k3 = k1 + 1.5\n",
        "print(k3.dtype, k3)"
      ]
    },
    {
      "cell_type": "markdown",
      "metadata": {
        "id": "ZymEeHGNNX-o"
      },
      "source": [
        "# Conditional operators"
      ]
    },
    {
      "cell_type": "markdown",
      "metadata": {
        "id": "2sfxaa-2NX-o"
      },
      "source": [
        "The conditional operators also apply elementwise:"
      ]
    },
    {
      "cell_type": "code",
      "execution_count": 123,
      "metadata": {
        "id": "U0P9-Xl4NX-q",
        "outputId": "2807c01f-f53c-4679-9a6f-459e757c5ece",
        "colab": {
          "base_uri": "https://localhost:8080/"
        }
      },
      "outputs": [
        {
          "output_type": "execute_result",
          "data": {
            "text/plain": [
              "array([False,  True,  True, False])"
            ]
          },
          "metadata": {},
          "execution_count": 123
        }
      ],
      "source": [
        "m = np.array([20, -5, 30, 40])\n",
        "m < [15, 16, 35, 36]"
      ]
    },
    {
      "cell_type": "markdown",
      "metadata": {
        "id": "bktniaJbNX-q"
      },
      "source": [
        "And using broadcasting:"
      ]
    },
    {
      "cell_type": "code",
      "execution_count": 124,
      "metadata": {
        "id": "fYWi9MgdNX-q",
        "outputId": "1388838a-6fdc-4ce0-cf77-edbe7de21466",
        "colab": {
          "base_uri": "https://localhost:8080/"
        }
      },
      "outputs": [
        {
          "output_type": "execute_result",
          "data": {
            "text/plain": [
              "array([ True,  True, False, False])"
            ]
          },
          "metadata": {},
          "execution_count": 124
        }
      ],
      "source": [
        "m < 25  # equivalent to m < [25, 25, 25, 25]"
      ]
    },
    {
      "cell_type": "markdown",
      "metadata": {
        "id": "IzL_J6snNX-r"
      },
      "source": [
        "This is most useful in conjunction with boolean indexing (discussed below)."
      ]
    },
    {
      "cell_type": "code",
      "execution_count": 125,
      "metadata": {
        "id": "cK1EEMWdNX-r",
        "outputId": "bbf3859a-c383-4b15-9657-642169f3b059",
        "colab": {
          "base_uri": "https://localhost:8080/"
        }
      },
      "outputs": [
        {
          "output_type": "execute_result",
          "data": {
            "text/plain": [
              "array([20, -5])"
            ]
          },
          "metadata": {},
          "execution_count": 125
        }
      ],
      "source": [
        "m[m < 25]"
      ]
    },
    {
      "cell_type": "markdown",
      "metadata": {
        "id": "U4THQ_6tNX-r"
      },
      "source": [
        "# Mathematical and statistical functions"
      ]
    },
    {
      "cell_type": "markdown",
      "metadata": {
        "id": "fuRVOzbjNX-r"
      },
      "source": [
        "Many mathematical and statistical functions are available for `ndarray`s.\n",
        "\n",
        "## `ndarray` methods\n",
        "Some functions are simply `ndarray` methods, for example:"
      ]
    },
    {
      "cell_type": "code",
      "execution_count": 126,
      "metadata": {
        "colab": {
          "base_uri": "https://localhost:8080/"
        },
        "id": "QSDpWd_oNX-r",
        "outputId": "3b554711-f4ba-474e-85b5-dd72aa3a60c1"
      },
      "outputs": [
        {
          "output_type": "stream",
          "name": "stdout",
          "text": [
            "[[-2.5  3.1  7. ]\n",
            " [10.  11.  12. ]]\n",
            "mean = 6.766666666666667\n"
          ]
        }
      ],
      "source": [
        "a = np.array([[-2.5, 3.1, 7], [10, 11, 12]])\n",
        "print(a)\n",
        "print(\"mean =\", a.mean())"
      ]
    },
    {
      "cell_type": "markdown",
      "metadata": {
        "id": "_2AuEbg6NX-s"
      },
      "source": [
        "Note that this computes the mean of all elements in the `ndarray`, regardless of its shape.\n",
        "\n",
        "Here are a few more useful `ndarray` methods:"
      ]
    },
    {
      "cell_type": "code",
      "execution_count": 127,
      "metadata": {
        "id": "5gAH-UGTNX-s",
        "outputId": "1497ee3d-4944-4d8f-c220-095fdadf8392",
        "colab": {
          "base_uri": "https://localhost:8080/"
        }
      },
      "outputs": [
        {
          "output_type": "stream",
          "name": "stdout",
          "text": [
            "min = -2.5\n",
            "max = 12.0\n",
            "sum = 40.6\n",
            "prod = -71610.0\n",
            "std = 5.084835843520964\n",
            "var = 25.855555555555554\n"
          ]
        }
      ],
      "source": [
        "for func in (a.min, a.max, a.sum, a.prod, a.std, a.var):\n",
        "    print(func.__name__, \"=\", func())"
      ]
    },
    {
      "cell_type": "markdown",
      "metadata": {
        "id": "dwfaUAcSNX-s"
      },
      "source": [
        "These functions accept an optional argument `axis` which lets you ask for the operation to be performed on elements along the given axis. For example:"
      ]
    },
    {
      "cell_type": "code",
      "execution_count": 128,
      "metadata": {
        "id": "qPwc-LY2NX-s",
        "outputId": "b5814cd8-654a-427e-d722-da21cc24bf37",
        "colab": {
          "base_uri": "https://localhost:8080/"
        }
      },
      "outputs": [
        {
          "output_type": "execute_result",
          "data": {
            "text/plain": [
              "array([[[ 0,  1,  2,  3],\n",
              "        [ 4,  5,  6,  7],\n",
              "        [ 8,  9, 10, 11]],\n",
              "\n",
              "       [[12, 13, 14, 15],\n",
              "        [16, 17, 18, 19],\n",
              "        [20, 21, 22, 23]]])"
            ]
          },
          "metadata": {},
          "execution_count": 128
        }
      ],
      "source": [
        "c=np.arange(24).reshape(2,3,4)\n",
        "c"
      ]
    },
    {
      "cell_type": "code",
      "execution_count": 129,
      "metadata": {
        "id": "d68U5D0PNX-t",
        "outputId": "57ae8163-5b2a-4f05-8d9e-3bb0be08d1f5",
        "colab": {
          "base_uri": "https://localhost:8080/"
        }
      },
      "outputs": [
        {
          "output_type": "execute_result",
          "data": {
            "text/plain": [
              "array([[12, 14, 16, 18],\n",
              "       [20, 22, 24, 26],\n",
              "       [28, 30, 32, 34]])"
            ]
          },
          "metadata": {},
          "execution_count": 129
        }
      ],
      "source": [
        "c.sum(axis=0)  # sum across matrices"
      ]
    },
    {
      "cell_type": "code",
      "execution_count": 130,
      "metadata": {
        "id": "I6q_lpavNX-t",
        "outputId": "0e27d35d-acf4-46c3-e2b2-0e6c689990eb",
        "colab": {
          "base_uri": "https://localhost:8080/"
        }
      },
      "outputs": [
        {
          "output_type": "execute_result",
          "data": {
            "text/plain": [
              "array([[12, 15, 18, 21],\n",
              "       [48, 51, 54, 57]])"
            ]
          },
          "metadata": {},
          "execution_count": 130
        }
      ],
      "source": [
        "c.sum(axis=1)  # sum across rows"
      ]
    },
    {
      "cell_type": "markdown",
      "metadata": {
        "id": "oIwtwjvENX-t"
      },
      "source": [
        "You can also sum over multiple axes:"
      ]
    },
    {
      "cell_type": "code",
      "execution_count": 131,
      "metadata": {
        "id": "vm7r_u5INX-u",
        "outputId": "79cb65d5-3eb1-46de-fd15-d1b6c95b1fb0",
        "colab": {
          "base_uri": "https://localhost:8080/"
        }
      },
      "outputs": [
        {
          "output_type": "execute_result",
          "data": {
            "text/plain": [
              "array([ 60,  92, 124])"
            ]
          },
          "metadata": {},
          "execution_count": 131
        }
      ],
      "source": [
        "c.sum(axis=(0,2))  # sum across matrices and columns"
      ]
    },
    {
      "cell_type": "code",
      "execution_count": 132,
      "metadata": {
        "id": "cyK5gIdRNX-u",
        "outputId": "920a8e32-d27e-4267-ec4f-afb20ae66d91",
        "colab": {
          "base_uri": "https://localhost:8080/"
        }
      },
      "outputs": [
        {
          "output_type": "execute_result",
          "data": {
            "text/plain": [
              "(60, 92, 124)"
            ]
          },
          "metadata": {},
          "execution_count": 132
        }
      ],
      "source": [
        "0+1+2+3 + 12+13+14+15, 4+5+6+7 + 16+17+18+19, 8+9+10+11 + 20+21+22+23"
      ]
    },
    {
      "cell_type": "markdown",
      "metadata": {
        "id": "0rr1FNuvNX-u"
      },
      "source": [
        "## Universal functions\n",
        "NumPy also provides fast elementwise functions called *universal functions*, or **ufunc**. They are vectorized wrappers of simple functions. For example `square` returns a new `ndarray` which is a copy of the original `ndarray` except that each element is squared:"
      ]
    },
    {
      "cell_type": "code",
      "execution_count": 133,
      "metadata": {
        "id": "ixc-a9Z3NX-u",
        "outputId": "502f10f3-a18a-4e94-9d91-e17a66a69d54",
        "colab": {
          "base_uri": "https://localhost:8080/"
        }
      },
      "outputs": [
        {
          "output_type": "execute_result",
          "data": {
            "text/plain": [
              "array([[  6.25,   9.61,  49.  ],\n",
              "       [100.  , 121.  , 144.  ]])"
            ]
          },
          "metadata": {},
          "execution_count": 133
        }
      ],
      "source": [
        "a = np.array([[-2.5, 3.1, 7], [10, 11, 12]])\n",
        "np.square(a)"
      ]
    },
    {
      "cell_type": "markdown",
      "metadata": {
        "id": "ymxzkhucNX-v"
      },
      "source": [
        "Here are a few more useful unary ufuncs:"
      ]
    },
    {
      "cell_type": "code",
      "execution_count": 134,
      "metadata": {
        "id": "Uk-JJTT1NX-v",
        "outputId": "e5a2079a-0c02-42c3-d176-9bf587b405ed",
        "colab": {
          "base_uri": "https://localhost:8080/"
        }
      },
      "outputs": [
        {
          "output_type": "stream",
          "name": "stdout",
          "text": [
            "Original ndarray\n",
            "[[-2.5  3.1  7. ]\n",
            " [10.  11.  12. ]]\n",
            "\n",
            " absolute\n",
            "[[ 2.5  3.1  7. ]\n",
            " [10.  11.  12. ]]\n",
            "\n",
            " sqrt\n",
            "[[       nan 1.76068169 2.64575131]\n",
            " [3.16227766 3.31662479 3.46410162]]\n",
            "\n",
            " exp\n",
            "[[8.20849986e-02 2.21979513e+01 1.09663316e+03]\n",
            " [2.20264658e+04 5.98741417e+04 1.62754791e+05]]\n",
            "\n",
            " log\n",
            "[[       nan 1.13140211 1.94591015]\n",
            " [2.30258509 2.39789527 2.48490665]]\n",
            "\n",
            " sign\n",
            "[[-1.  1.  1.]\n",
            " [ 1.  1.  1.]]\n",
            "\n",
            " ceil\n",
            "[[-2.  4.  7.]\n",
            " [10. 11. 12.]]\n",
            "\n",
            " modf\n",
            "(array([[-0.5,  0.1,  0. ],\n",
            "       [ 0. ,  0. ,  0. ]]), array([[-2.,  3.,  7.],\n",
            "       [10., 11., 12.]]))\n",
            "\n",
            " isnan\n",
            "[[False False False]\n",
            " [False False False]]\n",
            "\n",
            " cos\n",
            "[[-0.80114362 -0.99913515  0.75390225]\n",
            " [-0.83907153  0.0044257   0.84385396]]\n"
          ]
        },
        {
          "output_type": "stream",
          "name": "stderr",
          "text": [
            "/tmp/ipython-input-2634842825.py:5: RuntimeWarning: invalid value encountered in sqrt\n",
            "  print(func(a))\n",
            "/tmp/ipython-input-2634842825.py:5: RuntimeWarning: invalid value encountered in log\n",
            "  print(func(a))\n"
          ]
        }
      ],
      "source": [
        "print(\"Original ndarray\")\n",
        "print(a)\n",
        "for func in (np.abs, np.sqrt, np.exp, np.log, np.sign, np.ceil, np.modf, np.isnan, np.cos):\n",
        "    print(\"\\n\", func.__name__)\n",
        "    print(func(a))"
      ]
    },
    {
      "cell_type": "markdown",
      "metadata": {
        "id": "FYPgs2KFNX-v"
      },
      "source": [
        "## Binary ufuncs\n",
        "There are also many binary ufuncs, that apply elementwise on two `ndarray`s.  Broadcasting rules are applied if the arrays do not have the same shape:"
      ]
    },
    {
      "cell_type": "code",
      "execution_count": 135,
      "metadata": {
        "colab": {
          "base_uri": "https://localhost:8080/"
        },
        "id": "gbu95D_BNX-w",
        "outputId": "1d316270-6374-4fd3-8d48-5a2f756d329e"
      },
      "outputs": [
        {
          "output_type": "execute_result",
          "data": {
            "text/plain": [
              "array([ 3,  6,  2, 11])"
            ]
          },
          "metadata": {},
          "execution_count": 135
        }
      ],
      "source": [
        "a = np.array([1, -2, 3, 4])\n",
        "b = np.array([2, 8, -1, 7])\n",
        "np.add(a, b)  # equivalent to a + b"
      ]
    },
    {
      "cell_type": "code",
      "execution_count": 136,
      "metadata": {
        "colab": {
          "base_uri": "https://localhost:8080/"
        },
        "id": "Bz1lQBekNX-w",
        "outputId": "678bf969-d5a5-4a80-9363-5bd29623ca5c"
      },
      "outputs": [
        {
          "output_type": "execute_result",
          "data": {
            "text/plain": [
              "array([False, False,  True, False])"
            ]
          },
          "metadata": {},
          "execution_count": 136
        }
      ],
      "source": [
        "np.greater(a, b)  # equivalent to a > b"
      ]
    },
    {
      "cell_type": "code",
      "execution_count": 137,
      "metadata": {
        "id": "2cJSVFXfNX-w",
        "outputId": "c96b5401-e10c-4bf1-dfa5-7e36904856f9",
        "colab": {
          "base_uri": "https://localhost:8080/"
        }
      },
      "outputs": [
        {
          "output_type": "execute_result",
          "data": {
            "text/plain": [
              "array([2, 8, 3, 7])"
            ]
          },
          "metadata": {},
          "execution_count": 137
        }
      ],
      "source": [
        "np.maximum(a, b)"
      ]
    },
    {
      "cell_type": "code",
      "execution_count": 138,
      "metadata": {
        "id": "dIf3lIlhNX-x",
        "outputId": "738208c5-aa8f-40be-9220-2c40c4c6f88c",
        "colab": {
          "base_uri": "https://localhost:8080/"
        }
      },
      "outputs": [
        {
          "output_type": "execute_result",
          "data": {
            "text/plain": [
              "array([ 1.,  2., -3.,  4.])"
            ]
          },
          "metadata": {},
          "execution_count": 138
        }
      ],
      "source": [
        "np.copysign(a, b)"
      ]
    },
    {
      "cell_type": "markdown",
      "metadata": {
        "id": "gyA-B_WLNX-x"
      },
      "source": [
        "# Array indexing\n",
        "## One-dimensional arrays\n",
        "One-dimensional NumPy arrays can be accessed more or less like regular python arrays:"
      ]
    },
    {
      "cell_type": "code",
      "execution_count": 139,
      "metadata": {
        "id": "gZvXD496NX-x",
        "outputId": "adf4caea-99c6-4c63-bf98-be2fa071d0e0",
        "colab": {
          "base_uri": "https://localhost:8080/"
        }
      },
      "outputs": [
        {
          "output_type": "execute_result",
          "data": {
            "text/plain": [
              "np.int64(19)"
            ]
          },
          "metadata": {},
          "execution_count": 139
        }
      ],
      "source": [
        "a = np.array([1, 5, 3, 19, 13, 7, 3])\n",
        "a[3]"
      ]
    },
    {
      "cell_type": "code",
      "execution_count": 140,
      "metadata": {
        "id": "ATEgxMhzNX-x",
        "outputId": "e217bc41-8b81-4801-91c1-cdecc9c74a19",
        "colab": {
          "base_uri": "https://localhost:8080/"
        }
      },
      "outputs": [
        {
          "output_type": "execute_result",
          "data": {
            "text/plain": [
              "array([ 3, 19, 13])"
            ]
          },
          "metadata": {},
          "execution_count": 140
        }
      ],
      "source": [
        "a[2:5]"
      ]
    },
    {
      "cell_type": "code",
      "execution_count": 141,
      "metadata": {
        "id": "St2Ook_nNX-y",
        "outputId": "8c9ea29e-6bf3-4769-c9cd-efb38e7b5542",
        "colab": {
          "base_uri": "https://localhost:8080/"
        }
      },
      "outputs": [
        {
          "output_type": "execute_result",
          "data": {
            "text/plain": [
              "array([ 3, 19, 13,  7])"
            ]
          },
          "metadata": {},
          "execution_count": 141
        }
      ],
      "source": [
        "a[2:-1]"
      ]
    },
    {
      "cell_type": "code",
      "execution_count": 142,
      "metadata": {
        "id": "bCQwOrIpNX-y",
        "outputId": "33d1f20b-912e-466e-80ce-4cdddc903dad",
        "colab": {
          "base_uri": "https://localhost:8080/"
        }
      },
      "outputs": [
        {
          "output_type": "execute_result",
          "data": {
            "text/plain": [
              "array([1, 5])"
            ]
          },
          "metadata": {},
          "execution_count": 142
        }
      ],
      "source": [
        "a[:2]"
      ]
    },
    {
      "cell_type": "code",
      "execution_count": 143,
      "metadata": {
        "id": "RUK7fAniNX-y",
        "outputId": "3c475222-d14e-439a-8955-4d01c51f0687",
        "colab": {
          "base_uri": "https://localhost:8080/"
        }
      },
      "outputs": [
        {
          "output_type": "execute_result",
          "data": {
            "text/plain": [
              "array([ 3, 13,  3])"
            ]
          },
          "metadata": {},
          "execution_count": 143
        }
      ],
      "source": [
        "a[2::2]"
      ]
    },
    {
      "cell_type": "code",
      "execution_count": 144,
      "metadata": {
        "id": "OlIujTw3NX-y",
        "outputId": "d60eea54-7921-4351-df42-79555508e27b",
        "colab": {
          "base_uri": "https://localhost:8080/"
        }
      },
      "outputs": [
        {
          "output_type": "execute_result",
          "data": {
            "text/plain": [
              "array([ 3,  7, 13, 19,  3,  5,  1])"
            ]
          },
          "metadata": {},
          "execution_count": 144
        }
      ],
      "source": [
        "a[::-1]"
      ]
    },
    {
      "cell_type": "markdown",
      "metadata": {
        "id": "bHSGkz7tNX-z"
      },
      "source": [
        "Of course, you can modify elements:"
      ]
    },
    {
      "cell_type": "code",
      "execution_count": 145,
      "metadata": {
        "id": "1GMe1Dj_NX-z",
        "outputId": "8e2172ad-32c3-45b7-f56b-beeab1624b55",
        "colab": {
          "base_uri": "https://localhost:8080/"
        }
      },
      "outputs": [
        {
          "output_type": "execute_result",
          "data": {
            "text/plain": [
              "array([  1,   5,   3, 999,  13,   7,   3])"
            ]
          },
          "metadata": {},
          "execution_count": 145
        }
      ],
      "source": [
        "a[3]=999\n",
        "a"
      ]
    },
    {
      "cell_type": "markdown",
      "metadata": {
        "id": "H2xIQTP0NX-0"
      },
      "source": [
        "You can also modify an `ndarray` slice:"
      ]
    },
    {
      "cell_type": "code",
      "execution_count": 146,
      "metadata": {
        "id": "_FljvEkENX-0",
        "outputId": "34c902b7-30fe-4742-ee2e-a05c076a4edb",
        "colab": {
          "base_uri": "https://localhost:8080/"
        }
      },
      "outputs": [
        {
          "output_type": "execute_result",
          "data": {
            "text/plain": [
              "array([  1,   5, 997, 998, 999,   7,   3])"
            ]
          },
          "metadata": {},
          "execution_count": 146
        }
      ],
      "source": [
        "a[2:5] = [997, 998, 999]\n",
        "a"
      ]
    },
    {
      "cell_type": "markdown",
      "metadata": {
        "id": "lQ-OUOpTNX-0"
      },
      "source": [
        "## Differences with regular python arrays\n",
        "Contrary to regular python arrays, if you assign a single value to an `ndarray` slice, it is copied across the whole slice, thanks to broadcasting rules discussed above."
      ]
    },
    {
      "cell_type": "code",
      "execution_count": 147,
      "metadata": {
        "id": "61nrZyvjNX-1",
        "outputId": "cc6d8943-6154-4fe0-8a2c-562ad544777d",
        "colab": {
          "base_uri": "https://localhost:8080/"
        }
      },
      "outputs": [
        {
          "output_type": "execute_result",
          "data": {
            "text/plain": [
              "array([ 1,  5, -1, -1, -1,  7,  3])"
            ]
          },
          "metadata": {},
          "execution_count": 147
        }
      ],
      "source": [
        "a[2:5] = -1\n",
        "a"
      ]
    },
    {
      "cell_type": "markdown",
      "metadata": {
        "id": "iEecgh1WNX-1"
      },
      "source": [
        "Also, you cannot grow or shrink `ndarray`s this way:"
      ]
    },
    {
      "cell_type": "code",
      "execution_count": 148,
      "metadata": {
        "scrolled": false,
        "id": "JgoLYw4sNX-1",
        "outputId": "c2f644ff-dc34-42ac-a7fa-47e91053ef0d",
        "colab": {
          "base_uri": "https://localhost:8080/"
        }
      },
      "outputs": [
        {
          "output_type": "stream",
          "name": "stdout",
          "text": [
            "could not broadcast input array from shape (6,) into shape (3,)\n"
          ]
        }
      ],
      "source": [
        "try:\n",
        "    a[2:5] = [1,2,3,4,5,6]  # too long\n",
        "except ValueError as e:\n",
        "    print(e)"
      ]
    },
    {
      "cell_type": "markdown",
      "metadata": {
        "id": "l84NuiWLNX-1"
      },
      "source": [
        "You cannot delete elements either:"
      ]
    },
    {
      "cell_type": "code",
      "execution_count": 149,
      "metadata": {
        "id": "Nw35y3LTNX-1",
        "outputId": "779cdfa7-5b1c-4900-875d-bd122acb5b4d",
        "colab": {
          "base_uri": "https://localhost:8080/"
        }
      },
      "outputs": [
        {
          "output_type": "stream",
          "name": "stdout",
          "text": [
            "cannot delete array elements\n"
          ]
        }
      ],
      "source": [
        "try:\n",
        "    del a[2:5]\n",
        "except ValueError as e:\n",
        "    print(e)"
      ]
    },
    {
      "cell_type": "markdown",
      "metadata": {
        "id": "l4sovoBmNX-2"
      },
      "source": [
        "Last but not least, `ndarray` **slices are actually *views*** on the same data buffer. This means that if you create a slice and modify it, you are actually going to modify the original `ndarray` as well!"
      ]
    },
    {
      "cell_type": "code",
      "execution_count": 150,
      "metadata": {
        "id": "neSrTkxHNX-2",
        "outputId": "64eb77f7-9a39-4b8f-9f60-3a4be180ef12",
        "colab": {
          "base_uri": "https://localhost:8080/"
        }
      },
      "outputs": [
        {
          "output_type": "execute_result",
          "data": {
            "text/plain": [
              "array([   1,    5,   -1, 1000,   -1,    7,    3])"
            ]
          },
          "metadata": {},
          "execution_count": 150
        }
      ],
      "source": [
        "a_slice = a[2:6]\n",
        "a_slice[1] = 1000\n",
        "a  # the original array was modified!"
      ]
    },
    {
      "cell_type": "code",
      "execution_count": 151,
      "metadata": {
        "id": "wZ356O20NX-2",
        "outputId": "adcb6a7b-8752-4a51-fa6d-903ae8899671",
        "colab": {
          "base_uri": "https://localhost:8080/"
        }
      },
      "outputs": [
        {
          "output_type": "execute_result",
          "data": {
            "text/plain": [
              "array([  -1, 2000,   -1,    7])"
            ]
          },
          "metadata": {},
          "execution_count": 151
        }
      ],
      "source": [
        "a[3] = 2000\n",
        "a_slice  # similarly, modifying the original array modifies the slice!"
      ]
    },
    {
      "cell_type": "markdown",
      "metadata": {
        "id": "p4CuOCWcNX-2"
      },
      "source": [
        "If you want a copy of the data, you need to use the `copy` method:"
      ]
    },
    {
      "cell_type": "code",
      "execution_count": 152,
      "metadata": {
        "id": "s-k7kzT6NX-3",
        "outputId": "d271a91b-9899-467e-ea95-7307361876c1",
        "colab": {
          "base_uri": "https://localhost:8080/"
        }
      },
      "outputs": [
        {
          "output_type": "execute_result",
          "data": {
            "text/plain": [
              "array([   1,    5,   -1, 2000,   -1,    7,    3])"
            ]
          },
          "metadata": {},
          "execution_count": 152
        }
      ],
      "source": [
        "another_slice = a[2:6].copy()\n",
        "another_slice[1] = 3000\n",
        "a  # the original array is untouched"
      ]
    },
    {
      "cell_type": "code",
      "execution_count": 153,
      "metadata": {
        "id": "zvNWOz5MNX-3",
        "outputId": "95ddea8e-f3b7-4598-a326-90d2d9a9ea14",
        "colab": {
          "base_uri": "https://localhost:8080/"
        }
      },
      "outputs": [
        {
          "output_type": "execute_result",
          "data": {
            "text/plain": [
              "array([  -1, 3000,   -1,    7])"
            ]
          },
          "metadata": {},
          "execution_count": 153
        }
      ],
      "source": [
        "a[3] = 4000\n",
        "another_slice  # similary, modifying the original array does not affect the slice copy"
      ]
    },
    {
      "cell_type": "markdown",
      "metadata": {
        "id": "29H7KBHeNX-3"
      },
      "source": [
        "## Multi-dimensional arrays\n",
        "Multi-dimensional arrays can be accessed in a similar way by providing an index or slice for each axis, separated by commas:"
      ]
    },
    {
      "cell_type": "code",
      "execution_count": 154,
      "metadata": {
        "id": "WeTNCtR1NX-3",
        "outputId": "567ada5f-ddda-4cc5-9407-5150f1e76c16",
        "colab": {
          "base_uri": "https://localhost:8080/"
        }
      },
      "outputs": [
        {
          "output_type": "execute_result",
          "data": {
            "text/plain": [
              "array([[ 0,  1,  2,  3,  4,  5,  6,  7,  8,  9, 10, 11],\n",
              "       [12, 13, 14, 15, 16, 17, 18, 19, 20, 21, 22, 23],\n",
              "       [24, 25, 26, 27, 28, 29, 30, 31, 32, 33, 34, 35],\n",
              "       [36, 37, 38, 39, 40, 41, 42, 43, 44, 45, 46, 47]])"
            ]
          },
          "metadata": {},
          "execution_count": 154
        }
      ],
      "source": [
        "b = np.arange(48).reshape(4, 12)\n",
        "b"
      ]
    },
    {
      "cell_type": "code",
      "execution_count": 155,
      "metadata": {
        "id": "PdXu0IKoNX-4",
        "outputId": "615666ca-2098-42fa-953c-ef66986afa4a",
        "colab": {
          "base_uri": "https://localhost:8080/"
        }
      },
      "outputs": [
        {
          "output_type": "execute_result",
          "data": {
            "text/plain": [
              "np.int64(14)"
            ]
          },
          "metadata": {},
          "execution_count": 155
        }
      ],
      "source": [
        "b[1, 2]  # row 1, col 2"
      ]
    },
    {
      "cell_type": "code",
      "execution_count": 156,
      "metadata": {
        "id": "KYY69bYLNX-4",
        "outputId": "e04d1d5f-419a-42d5-b6cf-97ed938147c8",
        "colab": {
          "base_uri": "https://localhost:8080/"
        }
      },
      "outputs": [
        {
          "output_type": "execute_result",
          "data": {
            "text/plain": [
              "array([12, 13, 14, 15, 16, 17, 18, 19, 20, 21, 22, 23])"
            ]
          },
          "metadata": {},
          "execution_count": 156
        }
      ],
      "source": [
        "b[1, :]  # row 1, all columns"
      ]
    },
    {
      "cell_type": "code",
      "execution_count": 157,
      "metadata": {
        "id": "b8NE68_4NX-4",
        "outputId": "bad1b1a0-e865-49c3-aa41-5fcff5013362",
        "colab": {
          "base_uri": "https://localhost:8080/"
        }
      },
      "outputs": [
        {
          "output_type": "execute_result",
          "data": {
            "text/plain": [
              "array([ 1, 13, 25, 37])"
            ]
          },
          "metadata": {},
          "execution_count": 157
        }
      ],
      "source": [
        "b[:, 1]  # all rows, column 1"
      ]
    },
    {
      "cell_type": "markdown",
      "metadata": {
        "id": "5yLMRVuVNX-5"
      },
      "source": [
        "**Caution**: note the subtle difference between these two expressions:"
      ]
    },
    {
      "cell_type": "code",
      "execution_count": 158,
      "metadata": {
        "scrolled": true,
        "id": "DJ3H8pM4NX-5",
        "outputId": "3f110de8-ed98-4f34-eab7-31937403e0a9",
        "colab": {
          "base_uri": "https://localhost:8080/"
        }
      },
      "outputs": [
        {
          "output_type": "execute_result",
          "data": {
            "text/plain": [
              "array([12, 13, 14, 15, 16, 17, 18, 19, 20, 21, 22, 23])"
            ]
          },
          "metadata": {},
          "execution_count": 158
        }
      ],
      "source": [
        "b[1, :]"
      ]
    },
    {
      "cell_type": "code",
      "execution_count": 159,
      "metadata": {
        "id": "dZz1viqANX-5",
        "outputId": "910f97e3-12e7-4714-d4f6-669076db8ac7",
        "colab": {
          "base_uri": "https://localhost:8080/"
        }
      },
      "outputs": [
        {
          "output_type": "execute_result",
          "data": {
            "text/plain": [
              "array([[12, 13, 14, 15, 16, 17, 18, 19, 20, 21, 22, 23]])"
            ]
          },
          "metadata": {},
          "execution_count": 159
        }
      ],
      "source": [
        "b[1:2, :]"
      ]
    },
    {
      "cell_type": "markdown",
      "metadata": {
        "id": "Jrb4YUKpNX-5"
      },
      "source": [
        "The first expression returns row 1 as a 1D array of shape `(12,)`, while the second returns that same row as a 2D array of shape `(1, 12)`."
      ]
    },
    {
      "cell_type": "markdown",
      "metadata": {
        "id": "ViFGni56NX-6"
      },
      "source": [
        "## Fancy indexing\n",
        "You may also specify a list of indices that you are interested in. This is referred to as *fancy indexing*."
      ]
    },
    {
      "cell_type": "code",
      "execution_count": 160,
      "metadata": {
        "scrolled": true,
        "id": "ojAbHNXvNX-6",
        "outputId": "1db76520-26a4-4825-f7de-8b292da8390a",
        "colab": {
          "base_uri": "https://localhost:8080/"
        }
      },
      "outputs": [
        {
          "output_type": "execute_result",
          "data": {
            "text/plain": [
              "array([[ 2,  3,  4],\n",
              "       [26, 27, 28]])"
            ]
          },
          "metadata": {},
          "execution_count": 160
        }
      ],
      "source": [
        "b[(0,2), 2:5]  # rows 0 and 2, columns 2 to 4 (5-1)"
      ]
    },
    {
      "cell_type": "code",
      "execution_count": 161,
      "metadata": {
        "id": "xojeyN9fNX-6",
        "outputId": "6d4bb572-81df-4534-f29e-460f629e17ee",
        "colab": {
          "base_uri": "https://localhost:8080/"
        }
      },
      "outputs": [
        {
          "output_type": "execute_result",
          "data": {
            "text/plain": [
              "array([[11,  2, 11],\n",
              "       [23, 14, 23],\n",
              "       [35, 26, 35],\n",
              "       [47, 38, 47]])"
            ]
          },
          "metadata": {},
          "execution_count": 161
        }
      ],
      "source": [
        "b[:, (-1, 2, -1)]  # all rows, columns -1 (last), 2 and -1 (again, and in this order)"
      ]
    },
    {
      "cell_type": "markdown",
      "metadata": {
        "id": "meeVXXhWNX-6"
      },
      "source": [
        "If you provide multiple index arrays, you get a 1D `ndarray` containing the values of the elements at the specified coordinates."
      ]
    },
    {
      "cell_type": "code",
      "execution_count": 162,
      "metadata": {
        "id": "szU4ZRQQNX-6",
        "outputId": "2e1b6941-9dd6-4ce3-c875-a47794d2e78a",
        "colab": {
          "base_uri": "https://localhost:8080/"
        }
      },
      "outputs": [
        {
          "output_type": "execute_result",
          "data": {
            "text/plain": [
              "array([41, 33, 37, 33])"
            ]
          },
          "metadata": {},
          "execution_count": 162
        }
      ],
      "source": [
        "b[(-1, 2, -1, 2), (5, 9, 1, 9)]  # returns a 1D array with b[-1, 5], b[2, 9], b[-1, 1] and b[2, 9] (again)"
      ]
    },
    {
      "cell_type": "markdown",
      "metadata": {
        "id": "B5CBcgbuNX-7"
      },
      "source": [
        "## Higher dimensions\n",
        "Everything works just as well with higher dimensional arrays, but it's useful to look at a few examples:"
      ]
    },
    {
      "cell_type": "code",
      "execution_count": 163,
      "metadata": {
        "id": "N8Ke8MZPNX-8",
        "outputId": "255fe909-8b66-41bb-df8e-a8ed81336e55",
        "colab": {
          "base_uri": "https://localhost:8080/"
        }
      },
      "outputs": [
        {
          "output_type": "execute_result",
          "data": {
            "text/plain": [
              "array([[[ 0,  1,  2,  3,  4,  5],\n",
              "        [ 6,  7,  8,  9, 10, 11]],\n",
              "\n",
              "       [[12, 13, 14, 15, 16, 17],\n",
              "        [18, 19, 20, 21, 22, 23]],\n",
              "\n",
              "       [[24, 25, 26, 27, 28, 29],\n",
              "        [30, 31, 32, 33, 34, 35]],\n",
              "\n",
              "       [[36, 37, 38, 39, 40, 41],\n",
              "        [42, 43, 44, 45, 46, 47]]])"
            ]
          },
          "metadata": {},
          "execution_count": 163
        }
      ],
      "source": [
        "c = b.reshape(4,2,6)\n",
        "c"
      ]
    },
    {
      "cell_type": "code",
      "execution_count": 164,
      "metadata": {
        "id": "tKF_iWTRNX-9",
        "outputId": "d3022992-3b6d-4809-9916-4b332255197e",
        "colab": {
          "base_uri": "https://localhost:8080/"
        }
      },
      "outputs": [
        {
          "output_type": "execute_result",
          "data": {
            "text/plain": [
              "np.int64(34)"
            ]
          },
          "metadata": {},
          "execution_count": 164
        }
      ],
      "source": [
        "c[2, 1, 4]  # matrix 2, row 1, col 4"
      ]
    },
    {
      "cell_type": "code",
      "execution_count": 165,
      "metadata": {
        "id": "MDfcZ4jcNX-9",
        "outputId": "211e3367-e342-4703-c0ef-14413a5e980b",
        "colab": {
          "base_uri": "https://localhost:8080/"
        }
      },
      "outputs": [
        {
          "output_type": "execute_result",
          "data": {
            "text/plain": [
              "array([27, 33])"
            ]
          },
          "metadata": {},
          "execution_count": 165
        }
      ],
      "source": [
        "c[2, :, 3]  # matrix 2, all rows, col 3"
      ]
    },
    {
      "cell_type": "markdown",
      "metadata": {
        "id": "1a0_AhAYNX-9"
      },
      "source": [
        "If you omit coordinates for some axes, then all elements in these axes are returned:"
      ]
    },
    {
      "cell_type": "code",
      "execution_count": 166,
      "metadata": {
        "id": "8VSeTfA_NX--",
        "outputId": "c1fd599b-6713-4684-87fd-4559f0e841bc",
        "colab": {
          "base_uri": "https://localhost:8080/"
        }
      },
      "outputs": [
        {
          "output_type": "execute_result",
          "data": {
            "text/plain": [
              "array([30, 31, 32, 33, 34, 35])"
            ]
          },
          "metadata": {},
          "execution_count": 166
        }
      ],
      "source": [
        "c[2, 1]  # Return matrix 2, row 1, all columns.  This is equivalent to c[2, 1, :]"
      ]
    },
    {
      "cell_type": "markdown",
      "metadata": {
        "id": "VM_Bx4QRNX--"
      },
      "source": [
        "## Ellipsis (`...`)\n",
        "You may also write an ellipsis (`...`) to ask that all non-specified axes be entirely included."
      ]
    },
    {
      "cell_type": "code",
      "execution_count": 167,
      "metadata": {
        "id": "x9qfugukNX--",
        "outputId": "5308b53f-1738-4307-bbad-a2ae3fa6751e",
        "colab": {
          "base_uri": "https://localhost:8080/"
        }
      },
      "outputs": [
        {
          "output_type": "execute_result",
          "data": {
            "text/plain": [
              "array([[24, 25, 26, 27, 28, 29],\n",
              "       [30, 31, 32, 33, 34, 35]])"
            ]
          },
          "metadata": {},
          "execution_count": 167
        }
      ],
      "source": [
        "c[2, ...]  #  matrix 2, all rows, all columns.  This is equivalent to c[2, :, :]"
      ]
    },
    {
      "cell_type": "code",
      "execution_count": 168,
      "metadata": {
        "id": "ttCczfbzNX-_",
        "outputId": "091704a4-b95c-4e28-d1e0-62c26cd2865a",
        "colab": {
          "base_uri": "https://localhost:8080/"
        }
      },
      "outputs": [
        {
          "output_type": "execute_result",
          "data": {
            "text/plain": [
              "array([30, 31, 32, 33, 34, 35])"
            ]
          },
          "metadata": {},
          "execution_count": 168
        }
      ],
      "source": [
        "c[2, 1, ...]  # matrix 2, row 1, all columns.  This is equivalent to c[2, 1, :]"
      ]
    },
    {
      "cell_type": "code",
      "execution_count": 169,
      "metadata": {
        "id": "j8E212TQNX-_",
        "outputId": "fd9f6366-5cdb-4ab3-9adf-4d326185a868",
        "colab": {
          "base_uri": "https://localhost:8080/"
        }
      },
      "outputs": [
        {
          "output_type": "execute_result",
          "data": {
            "text/plain": [
              "array([27, 33])"
            ]
          },
          "metadata": {},
          "execution_count": 169
        }
      ],
      "source": [
        "c[2, ..., 3]  # matrix 2, all rows, column 3.  This is equivalent to c[2, :, 3]"
      ]
    },
    {
      "cell_type": "code",
      "execution_count": 170,
      "metadata": {
        "scrolled": false,
        "id": "_1y9RuG2NX-_",
        "outputId": "4369e7f2-4b90-4ba0-c236-1c7630255eb6",
        "colab": {
          "base_uri": "https://localhost:8080/"
        }
      },
      "outputs": [
        {
          "output_type": "execute_result",
          "data": {
            "text/plain": [
              "array([[ 3,  9],\n",
              "       [15, 21],\n",
              "       [27, 33],\n",
              "       [39, 45]])"
            ]
          },
          "metadata": {},
          "execution_count": 170
        }
      ],
      "source": [
        "c[..., 3]  # all matrices, all rows, column 3.  This is equivalent to c[:, :, 3]"
      ]
    },
    {
      "cell_type": "markdown",
      "metadata": {
        "id": "w2v3AM4mNX_A"
      },
      "source": [
        "## Boolean indexing\n",
        "You can also provide an `ndarray` of boolean values on one axis to specify the indices that you want to access."
      ]
    },
    {
      "cell_type": "code",
      "execution_count": 171,
      "metadata": {
        "id": "x0HGINR_NX_A",
        "outputId": "666bd5c8-9668-4b72-af39-953c54d7d990",
        "colab": {
          "base_uri": "https://localhost:8080/"
        }
      },
      "outputs": [
        {
          "output_type": "execute_result",
          "data": {
            "text/plain": [
              "array([[ 0,  1,  2,  3,  4,  5,  6,  7,  8,  9, 10, 11],\n",
              "       [12, 13, 14, 15, 16, 17, 18, 19, 20, 21, 22, 23],\n",
              "       [24, 25, 26, 27, 28, 29, 30, 31, 32, 33, 34, 35],\n",
              "       [36, 37, 38, 39, 40, 41, 42, 43, 44, 45, 46, 47]])"
            ]
          },
          "metadata": {},
          "execution_count": 171
        }
      ],
      "source": [
        "b = np.arange(48).reshape(4, 12)\n",
        "b"
      ]
    },
    {
      "cell_type": "code",
      "execution_count": 172,
      "metadata": {
        "id": "Pw3frZptNX_A",
        "outputId": "8eeab225-5dca-4abe-a4c2-7b85c7d1beb9",
        "colab": {
          "base_uri": "https://localhost:8080/"
        }
      },
      "outputs": [
        {
          "output_type": "execute_result",
          "data": {
            "text/plain": [
              "array([[ 0,  1,  2,  3,  4,  5,  6,  7,  8,  9, 10, 11],\n",
              "       [24, 25, 26, 27, 28, 29, 30, 31, 32, 33, 34, 35]])"
            ]
          },
          "metadata": {},
          "execution_count": 172
        }
      ],
      "source": [
        "rows_on = np.array([True, False, True, False])\n",
        "b[rows_on, :]  # Rows 0 and 2, all columns. Equivalent to b[(0, 2), :]"
      ]
    },
    {
      "cell_type": "code",
      "execution_count": 173,
      "metadata": {
        "id": "qwTzzHh8NX_B",
        "outputId": "93d13dfa-45d1-4a0a-e88c-1784f3864636",
        "colab": {
          "base_uri": "https://localhost:8080/"
        }
      },
      "outputs": [
        {
          "output_type": "execute_result",
          "data": {
            "text/plain": [
              "array([[ 1,  4,  7, 10],\n",
              "       [13, 16, 19, 22],\n",
              "       [25, 28, 31, 34],\n",
              "       [37, 40, 43, 46]])"
            ]
          },
          "metadata": {},
          "execution_count": 173
        }
      ],
      "source": [
        "cols_on = np.array([False, True, False] * 4)\n",
        "b[:, cols_on]  # All rows, columns 1, 4, 7 and 10"
      ]
    },
    {
      "cell_type": "markdown",
      "metadata": {
        "id": "6cxwFFzgNX_B"
      },
      "source": [
        "## `np.ix_`\n",
        "You cannot use boolean indexing this way on multiple axes, but you can work around this by using the `ix_` function:"
      ]
    },
    {
      "cell_type": "code",
      "execution_count": 174,
      "metadata": {
        "id": "5v29MBXPNX_B",
        "outputId": "5c0c22f5-d1e1-4aa7-d189-0b2b28d26760",
        "colab": {
          "base_uri": "https://localhost:8080/"
        }
      },
      "outputs": [
        {
          "output_type": "execute_result",
          "data": {
            "text/plain": [
              "array([[ 1,  4,  7, 10],\n",
              "       [25, 28, 31, 34]])"
            ]
          },
          "metadata": {},
          "execution_count": 174
        }
      ],
      "source": [
        "b[np.ix_(rows_on, cols_on)]"
      ]
    },
    {
      "cell_type": "code",
      "execution_count": 175,
      "metadata": {
        "id": "ItBxIbH-NX_B",
        "outputId": "975cb357-0e1a-44bf-88b9-a8d52befd74d",
        "colab": {
          "base_uri": "https://localhost:8080/"
        }
      },
      "outputs": [
        {
          "output_type": "execute_result",
          "data": {
            "text/plain": [
              "(array([[0],\n",
              "        [2]]),\n",
              " array([[ 1,  4,  7, 10]]))"
            ]
          },
          "metadata": {},
          "execution_count": 175
        }
      ],
      "source": [
        "np.ix_(rows_on, cols_on)"
      ]
    },
    {
      "cell_type": "markdown",
      "metadata": {
        "id": "qZdnS7GANX_B"
      },
      "source": [
        "If you use a boolean array that has the same shape as the `ndarray`, then you get in return a 1D array containing all the values that have `True` at their coordinate. This is generally used along with conditional operators:"
      ]
    },
    {
      "cell_type": "code",
      "execution_count": 176,
      "metadata": {
        "id": "cDb4w1TSNX_C",
        "outputId": "44f4f987-d70c-40ef-98d7-da46b538c037",
        "colab": {
          "base_uri": "https://localhost:8080/"
        }
      },
      "outputs": [
        {
          "output_type": "execute_result",
          "data": {
            "text/plain": [
              "array([ 1,  4,  7, 10, 13, 16, 19, 22, 25, 28, 31, 34, 37, 40, 43, 46])"
            ]
          },
          "metadata": {},
          "execution_count": 176
        }
      ],
      "source": [
        "b[b % 3 == 1]"
      ]
    },
    {
      "cell_type": "markdown",
      "metadata": {
        "id": "MW84TDg-NX_C"
      },
      "source": [
        "# Iterating\n",
        "Iterating over `ndarray`s is very similar to iterating over regular python arrays. Note that iterating over multidimensional arrays is done with respect to the first axis."
      ]
    },
    {
      "cell_type": "code",
      "execution_count": 177,
      "metadata": {
        "id": "_ptkxQ-rNX_C",
        "outputId": "2e230928-efd3-436e-b1c6-9993124a35db",
        "colab": {
          "base_uri": "https://localhost:8080/"
        }
      },
      "outputs": [
        {
          "output_type": "execute_result",
          "data": {
            "text/plain": [
              "array([[[ 0,  1,  2,  3],\n",
              "        [ 4,  5,  6,  7],\n",
              "        [ 8,  9, 10, 11]],\n",
              "\n",
              "       [[12, 13, 14, 15],\n",
              "        [16, 17, 18, 19],\n",
              "        [20, 21, 22, 23]]])"
            ]
          },
          "metadata": {},
          "execution_count": 177
        }
      ],
      "source": [
        "c = np.arange(24).reshape(2, 3, 4)  # A 3D array (composed of two 3x4 matrices)\n",
        "c"
      ]
    },
    {
      "cell_type": "code",
      "execution_count": 178,
      "metadata": {
        "id": "gRyw5k51NX_C",
        "outputId": "9a8a9f47-86a7-45b7-a509-9b4d6c912622",
        "colab": {
          "base_uri": "https://localhost:8080/"
        }
      },
      "outputs": [
        {
          "output_type": "stream",
          "name": "stdout",
          "text": [
            "Item:\n",
            "[[ 0  1  2  3]\n",
            " [ 4  5  6  7]\n",
            " [ 8  9 10 11]]\n",
            "Item:\n",
            "[[12 13 14 15]\n",
            " [16 17 18 19]\n",
            " [20 21 22 23]]\n"
          ]
        }
      ],
      "source": [
        "for m in c:\n",
        "    print(\"Item:\")\n",
        "    print(m)"
      ]
    },
    {
      "cell_type": "code",
      "execution_count": 179,
      "metadata": {
        "id": "7a5bXEXdNX_C",
        "outputId": "2e9d67e3-a995-46a0-b30f-64c2b83628a1",
        "colab": {
          "base_uri": "https://localhost:8080/"
        }
      },
      "outputs": [
        {
          "output_type": "stream",
          "name": "stdout",
          "text": [
            "Item:\n",
            "[[ 0  1  2  3]\n",
            " [ 4  5  6  7]\n",
            " [ 8  9 10 11]]\n",
            "Item:\n",
            "[[12 13 14 15]\n",
            " [16 17 18 19]\n",
            " [20 21 22 23]]\n"
          ]
        }
      ],
      "source": [
        "for i in range(len(c)):  # Note that len(c) == c.shape[0]\n",
        "    print(\"Item:\")\n",
        "    print(c[i])"
      ]
    },
    {
      "cell_type": "markdown",
      "metadata": {
        "id": "lIm-uRrbNX_D"
      },
      "source": [
        "If you want to iterate on *all* elements in the `ndarray`, simply iterate over the `flat` attribute:"
      ]
    },
    {
      "cell_type": "code",
      "execution_count": 180,
      "metadata": {
        "id": "5TZNLMRINX_D",
        "outputId": "60554ed0-2011-4cf8-8b39-96d075a0f1e6",
        "colab": {
          "base_uri": "https://localhost:8080/"
        }
      },
      "outputs": [
        {
          "output_type": "stream",
          "name": "stdout",
          "text": [
            "Item: 0\n",
            "Item: 1\n",
            "Item: 2\n",
            "Item: 3\n",
            "Item: 4\n",
            "Item: 5\n",
            "Item: 6\n",
            "Item: 7\n",
            "Item: 8\n",
            "Item: 9\n",
            "Item: 10\n",
            "Item: 11\n",
            "Item: 12\n",
            "Item: 13\n",
            "Item: 14\n",
            "Item: 15\n",
            "Item: 16\n",
            "Item: 17\n",
            "Item: 18\n",
            "Item: 19\n",
            "Item: 20\n",
            "Item: 21\n",
            "Item: 22\n",
            "Item: 23\n"
          ]
        }
      ],
      "source": [
        "for i in c.flat:\n",
        "    print(\"Item:\", i)"
      ]
    },
    {
      "cell_type": "markdown",
      "metadata": {
        "id": "QLKwYtrUNX_D"
      },
      "source": [
        "# Stacking arrays\n",
        "It is often useful to stack together different arrays. NumPy offers several functions to do just that. Let's start by creating a few arrays."
      ]
    },
    {
      "cell_type": "code",
      "execution_count": 181,
      "metadata": {
        "id": "0tjV3FN9NX_D",
        "outputId": "f2c4782a-2e9b-4c1f-de4c-15649896e144",
        "colab": {
          "base_uri": "https://localhost:8080/"
        }
      },
      "outputs": [
        {
          "output_type": "execute_result",
          "data": {
            "text/plain": [
              "array([[1., 1., 1., 1.],\n",
              "       [1., 1., 1., 1.],\n",
              "       [1., 1., 1., 1.]])"
            ]
          },
          "metadata": {},
          "execution_count": 181
        }
      ],
      "source": [
        "q1 = np.full((3,4), 1.0)\n",
        "q1"
      ]
    },
    {
      "cell_type": "code",
      "execution_count": 182,
      "metadata": {
        "id": "NJ8bFPLSNX_E",
        "outputId": "d30d37c7-c39a-4087-c0ef-ded130bdb591",
        "colab": {
          "base_uri": "https://localhost:8080/"
        }
      },
      "outputs": [
        {
          "output_type": "execute_result",
          "data": {
            "text/plain": [
              "array([[2., 2., 2., 2.],\n",
              "       [2., 2., 2., 2.],\n",
              "       [2., 2., 2., 2.],\n",
              "       [2., 2., 2., 2.]])"
            ]
          },
          "metadata": {},
          "execution_count": 182
        }
      ],
      "source": [
        "q2 = np.full((4,4), 2.0)\n",
        "q2"
      ]
    },
    {
      "cell_type": "code",
      "execution_count": 183,
      "metadata": {
        "id": "nV8z_FW-NX_E",
        "outputId": "73ba6cc8-e9e8-4516-9164-4d926568f516",
        "colab": {
          "base_uri": "https://localhost:8080/"
        }
      },
      "outputs": [
        {
          "output_type": "execute_result",
          "data": {
            "text/plain": [
              "array([[3., 3., 3., 3.],\n",
              "       [3., 3., 3., 3.],\n",
              "       [3., 3., 3., 3.]])"
            ]
          },
          "metadata": {},
          "execution_count": 183
        }
      ],
      "source": [
        "q3 = np.full((3,4), 3.0)\n",
        "q3"
      ]
    },
    {
      "cell_type": "markdown",
      "metadata": {
        "id": "ePqhL-0INX_E"
      },
      "source": [
        "## `vstack`\n",
        "Now let's stack them vertically using `vstack`:"
      ]
    },
    {
      "cell_type": "code",
      "execution_count": 184,
      "metadata": {
        "id": "bcAwJ2-INX_E",
        "outputId": "860106eb-8834-4388-85a5-c8acdd6173f2",
        "colab": {
          "base_uri": "https://localhost:8080/"
        }
      },
      "outputs": [
        {
          "output_type": "execute_result",
          "data": {
            "text/plain": [
              "array([[1., 1., 1., 1.],\n",
              "       [1., 1., 1., 1.],\n",
              "       [1., 1., 1., 1.],\n",
              "       [2., 2., 2., 2.],\n",
              "       [2., 2., 2., 2.],\n",
              "       [2., 2., 2., 2.],\n",
              "       [2., 2., 2., 2.],\n",
              "       [3., 3., 3., 3.],\n",
              "       [3., 3., 3., 3.],\n",
              "       [3., 3., 3., 3.]])"
            ]
          },
          "metadata": {},
          "execution_count": 184
        }
      ],
      "source": [
        "q4 = np.vstack((q1, q2, q3))\n",
        "q4"
      ]
    },
    {
      "cell_type": "code",
      "execution_count": 185,
      "metadata": {
        "id": "ptfxF82ANX_E",
        "outputId": "c72c667e-b02c-4d35-8992-782a48a66e22",
        "colab": {
          "base_uri": "https://localhost:8080/"
        }
      },
      "outputs": [
        {
          "output_type": "execute_result",
          "data": {
            "text/plain": [
              "(10, 4)"
            ]
          },
          "metadata": {},
          "execution_count": 185
        }
      ],
      "source": [
        "q4.shape"
      ]
    },
    {
      "cell_type": "markdown",
      "metadata": {
        "id": "pdtB1oZkNX_F"
      },
      "source": [
        "This was possible because q1, q2 and q3 all have the same shape (except for the vertical axis, but that's ok since we are stacking on that axis).\n",
        "\n",
        "## `hstack`\n",
        "We can also stack arrays horizontally using `hstack`:"
      ]
    },
    {
      "cell_type": "code",
      "execution_count": 186,
      "metadata": {
        "id": "bq6fM9aaNX_F",
        "outputId": "20225ce4-7856-4008-f424-663fdb2013fb",
        "colab": {
          "base_uri": "https://localhost:8080/"
        }
      },
      "outputs": [
        {
          "output_type": "execute_result",
          "data": {
            "text/plain": [
              "array([[1., 1., 1., 1., 3., 3., 3., 3.],\n",
              "       [1., 1., 1., 1., 3., 3., 3., 3.],\n",
              "       [1., 1., 1., 1., 3., 3., 3., 3.]])"
            ]
          },
          "metadata": {},
          "execution_count": 186
        }
      ],
      "source": [
        "q5 = np.hstack((q1, q3))\n",
        "q5"
      ]
    },
    {
      "cell_type": "code",
      "execution_count": 187,
      "metadata": {
        "id": "EXCNPXLRNX_F",
        "outputId": "81ac1a0c-4c3f-4340-90e0-e4e7af5a350f",
        "colab": {
          "base_uri": "https://localhost:8080/"
        }
      },
      "outputs": [
        {
          "output_type": "execute_result",
          "data": {
            "text/plain": [
              "(3, 8)"
            ]
          },
          "metadata": {},
          "execution_count": 187
        }
      ],
      "source": [
        "q5.shape"
      ]
    },
    {
      "cell_type": "markdown",
      "metadata": {
        "id": "jeNuizjMNX_F"
      },
      "source": [
        "This is possible because q1 and q3 both have 3 rows. But since q2 has 4 rows, it cannot be stacked horizontally with q1 and q3:"
      ]
    },
    {
      "cell_type": "code",
      "execution_count": 188,
      "metadata": {
        "id": "5quKu2A6NX_G",
        "outputId": "42a68c84-0a81-491b-d86f-0defd3f89d22",
        "colab": {
          "base_uri": "https://localhost:8080/"
        }
      },
      "outputs": [
        {
          "output_type": "stream",
          "name": "stdout",
          "text": [
            "all the input array dimensions except for the concatenation axis must match exactly, but along dimension 0, the array at index 0 has size 3 and the array at index 1 has size 4\n"
          ]
        }
      ],
      "source": [
        "try:\n",
        "    q5 = np.hstack((q1, q2, q3))\n",
        "except ValueError as e:\n",
        "    print(e)"
      ]
    },
    {
      "cell_type": "markdown",
      "metadata": {
        "id": "be2OOlbONX_G"
      },
      "source": [
        "## `concatenate`\n",
        "The `concatenate` function stacks arrays along any given existing axis."
      ]
    },
    {
      "cell_type": "code",
      "execution_count": 189,
      "metadata": {
        "id": "bz89areaNX_G",
        "outputId": "4ed96404-f45e-4fef-b26f-c2649818bbf1",
        "colab": {
          "base_uri": "https://localhost:8080/"
        }
      },
      "outputs": [
        {
          "output_type": "execute_result",
          "data": {
            "text/plain": [
              "array([[1., 1., 1., 1.],\n",
              "       [1., 1., 1., 1.],\n",
              "       [1., 1., 1., 1.],\n",
              "       [2., 2., 2., 2.],\n",
              "       [2., 2., 2., 2.],\n",
              "       [2., 2., 2., 2.],\n",
              "       [2., 2., 2., 2.],\n",
              "       [3., 3., 3., 3.],\n",
              "       [3., 3., 3., 3.],\n",
              "       [3., 3., 3., 3.]])"
            ]
          },
          "metadata": {},
          "execution_count": 189
        }
      ],
      "source": [
        "q7 = np.concatenate((q1, q2, q3), axis=0)  # Equivalent to vstack\n",
        "q7"
      ]
    },
    {
      "cell_type": "code",
      "execution_count": 190,
      "metadata": {
        "id": "v21dluy7NX_G",
        "outputId": "53fa1d2d-c215-4de7-8cde-0a1607c1f431",
        "colab": {
          "base_uri": "https://localhost:8080/"
        }
      },
      "outputs": [
        {
          "output_type": "execute_result",
          "data": {
            "text/plain": [
              "(10, 4)"
            ]
          },
          "metadata": {},
          "execution_count": 190
        }
      ],
      "source": [
        "q7.shape"
      ]
    },
    {
      "cell_type": "markdown",
      "metadata": {
        "id": "rh2oUmzKNX_G"
      },
      "source": [
        "As you might guess, `hstack` is equivalent to calling `concatenate` with `axis=1`."
      ]
    },
    {
      "cell_type": "markdown",
      "metadata": {
        "id": "7doF7MViNX_H"
      },
      "source": [
        "## `stack`\n",
        "The `stack` function stacks arrays along a new axis. All arrays have to have the same shape."
      ]
    },
    {
      "cell_type": "code",
      "execution_count": 191,
      "metadata": {
        "id": "qycUp4BKNX_H",
        "outputId": "5277554b-cdc4-495d-ecaf-48e7727cde94",
        "colab": {
          "base_uri": "https://localhost:8080/"
        }
      },
      "outputs": [
        {
          "output_type": "execute_result",
          "data": {
            "text/plain": [
              "array([[[1., 1., 1., 1.],\n",
              "        [1., 1., 1., 1.],\n",
              "        [1., 1., 1., 1.]],\n",
              "\n",
              "       [[3., 3., 3., 3.],\n",
              "        [3., 3., 3., 3.],\n",
              "        [3., 3., 3., 3.]]])"
            ]
          },
          "metadata": {},
          "execution_count": 191
        }
      ],
      "source": [
        "q8 = np.stack((q1, q3))\n",
        "q8"
      ]
    },
    {
      "cell_type": "code",
      "execution_count": 192,
      "metadata": {
        "id": "Q6eWYqUcNX_H",
        "outputId": "6f80b5cf-9f29-494f-bc89-2d1ed7f48829",
        "colab": {
          "base_uri": "https://localhost:8080/"
        }
      },
      "outputs": [
        {
          "output_type": "execute_result",
          "data": {
            "text/plain": [
              "(2, 3, 4)"
            ]
          },
          "metadata": {},
          "execution_count": 192
        }
      ],
      "source": [
        "q8.shape"
      ]
    },
    {
      "cell_type": "markdown",
      "metadata": {
        "id": "Pj_RtIhdNX_H"
      },
      "source": [
        "# Splitting arrays\n",
        "Splitting is the opposite of stacking. For example, let's use the `vsplit` function to split a matrix vertically.\n",
        "\n",
        "First let's create a 6x4 matrix:"
      ]
    },
    {
      "cell_type": "code",
      "execution_count": 193,
      "metadata": {
        "id": "AWyEzHG_NX_H",
        "outputId": "cd07eb45-0ddb-4bee-8327-9af00f2a86f1",
        "colab": {
          "base_uri": "https://localhost:8080/"
        }
      },
      "outputs": [
        {
          "output_type": "execute_result",
          "data": {
            "text/plain": [
              "array([[ 0,  1,  2,  3],\n",
              "       [ 4,  5,  6,  7],\n",
              "       [ 8,  9, 10, 11],\n",
              "       [12, 13, 14, 15],\n",
              "       [16, 17, 18, 19],\n",
              "       [20, 21, 22, 23]])"
            ]
          },
          "metadata": {},
          "execution_count": 193
        }
      ],
      "source": [
        "r = np.arange(24).reshape(6,4)\n",
        "r"
      ]
    },
    {
      "cell_type": "markdown",
      "metadata": {
        "id": "axq6lO3GNX_I"
      },
      "source": [
        "Now let's split it in three equal parts, vertically:"
      ]
    },
    {
      "cell_type": "code",
      "execution_count": 194,
      "metadata": {
        "id": "HtIt6-r9NX_I",
        "outputId": "364770a8-993a-4b67-f47a-6f6beae8bbea",
        "colab": {
          "base_uri": "https://localhost:8080/"
        }
      },
      "outputs": [
        {
          "output_type": "execute_result",
          "data": {
            "text/plain": [
              "array([[0, 1, 2, 3],\n",
              "       [4, 5, 6, 7]])"
            ]
          },
          "metadata": {},
          "execution_count": 194
        }
      ],
      "source": [
        "r1, r2, r3 = np.vsplit(r, 3)\n",
        "r1"
      ]
    },
    {
      "cell_type": "code",
      "execution_count": 195,
      "metadata": {
        "id": "kZxyXQDwNX_I",
        "outputId": "d5d43139-8b93-4c98-b504-ea8b27b38e05",
        "colab": {
          "base_uri": "https://localhost:8080/"
        }
      },
      "outputs": [
        {
          "output_type": "execute_result",
          "data": {
            "text/plain": [
              "array([[ 8,  9, 10, 11],\n",
              "       [12, 13, 14, 15]])"
            ]
          },
          "metadata": {},
          "execution_count": 195
        }
      ],
      "source": [
        "r2"
      ]
    },
    {
      "cell_type": "code",
      "execution_count": 196,
      "metadata": {
        "id": "WKyPqxeJNX_I",
        "outputId": "eb0ca16e-777e-4fe2-9b87-55085e3d2b7a",
        "colab": {
          "base_uri": "https://localhost:8080/"
        }
      },
      "outputs": [
        {
          "output_type": "execute_result",
          "data": {
            "text/plain": [
              "array([[16, 17, 18, 19],\n",
              "       [20, 21, 22, 23]])"
            ]
          },
          "metadata": {},
          "execution_count": 196
        }
      ],
      "source": [
        "r3"
      ]
    },
    {
      "cell_type": "markdown",
      "metadata": {
        "id": "50XlWB4DNX_I"
      },
      "source": [
        "There is also a `split` function which splits an array along any given axis. Calling `vsplit` is equivalent to calling `split` with `axis=0`. There is also an `hsplit` function, equivalent to calling `split` with `axis=1`:"
      ]
    },
    {
      "cell_type": "code",
      "execution_count": 197,
      "metadata": {
        "id": "HWKEZvAONX_J",
        "outputId": "b7cf1dda-a46c-457e-84be-056aadeafb0a",
        "colab": {
          "base_uri": "https://localhost:8080/"
        }
      },
      "outputs": [
        {
          "output_type": "execute_result",
          "data": {
            "text/plain": [
              "array([[ 0,  1],\n",
              "       [ 4,  5],\n",
              "       [ 8,  9],\n",
              "       [12, 13],\n",
              "       [16, 17],\n",
              "       [20, 21]])"
            ]
          },
          "metadata": {},
          "execution_count": 197
        }
      ],
      "source": [
        "r4, r5 = np.hsplit(r, 2)\n",
        "r4"
      ]
    },
    {
      "cell_type": "code",
      "execution_count": 198,
      "metadata": {
        "id": "CfencD9DNX_J",
        "outputId": "2df69edb-ceab-4b95-f7e1-244b9f6e4531",
        "colab": {
          "base_uri": "https://localhost:8080/"
        }
      },
      "outputs": [
        {
          "output_type": "execute_result",
          "data": {
            "text/plain": [
              "array([[ 2,  3],\n",
              "       [ 6,  7],\n",
              "       [10, 11],\n",
              "       [14, 15],\n",
              "       [18, 19],\n",
              "       [22, 23]])"
            ]
          },
          "metadata": {},
          "execution_count": 198
        }
      ],
      "source": [
        "r5"
      ]
    },
    {
      "cell_type": "markdown",
      "metadata": {
        "id": "zYG_PW-kNX_J"
      },
      "source": [
        "# Transposing arrays\n",
        "The `transpose` method creates a new view on an `ndarray`'s data, with axes permuted in the given order.\n",
        "\n",
        "For example, let's create a 3D array:"
      ]
    },
    {
      "cell_type": "code",
      "execution_count": 199,
      "metadata": {
        "id": "yMeAiYwBNX_J",
        "outputId": "1f9337dc-1750-41b4-a49e-a9db804c1de9",
        "colab": {
          "base_uri": "https://localhost:8080/"
        }
      },
      "outputs": [
        {
          "output_type": "execute_result",
          "data": {
            "text/plain": [
              "array([[[ 0,  1,  2],\n",
              "        [ 3,  4,  5]],\n",
              "\n",
              "       [[ 6,  7,  8],\n",
              "        [ 9, 10, 11]],\n",
              "\n",
              "       [[12, 13, 14],\n",
              "        [15, 16, 17]],\n",
              "\n",
              "       [[18, 19, 20],\n",
              "        [21, 22, 23]]])"
            ]
          },
          "metadata": {},
          "execution_count": 199
        }
      ],
      "source": [
        "t = np.arange(24).reshape(4,2,3)\n",
        "t"
      ]
    },
    {
      "cell_type": "markdown",
      "metadata": {
        "id": "YYfjvYsINX_J"
      },
      "source": [
        "Now let's create an `ndarray` such that the axes `0, 1, 2` (depth, height, width) are re-ordered to `1, 2, 0` (depth→width, height→depth, width→height):"
      ]
    },
    {
      "cell_type": "code",
      "execution_count": 200,
      "metadata": {
        "id": "EDpTglVFNX_K",
        "outputId": "112bb4ed-7edb-4f8f-cdd9-04a5b36b4f08",
        "colab": {
          "base_uri": "https://localhost:8080/"
        }
      },
      "outputs": [
        {
          "output_type": "execute_result",
          "data": {
            "text/plain": [
              "array([[[ 0,  6, 12, 18],\n",
              "        [ 1,  7, 13, 19],\n",
              "        [ 2,  8, 14, 20]],\n",
              "\n",
              "       [[ 3,  9, 15, 21],\n",
              "        [ 4, 10, 16, 22],\n",
              "        [ 5, 11, 17, 23]]])"
            ]
          },
          "metadata": {},
          "execution_count": 200
        }
      ],
      "source": [
        "t1 = t.transpose((1,2,0))\n",
        "t1"
      ]
    },
    {
      "cell_type": "code",
      "execution_count": 201,
      "metadata": {
        "id": "B2inYLWlNX_K",
        "outputId": "a2ebda27-c1f0-403d-9cec-4e05bc57abac",
        "colab": {
          "base_uri": "https://localhost:8080/"
        }
      },
      "outputs": [
        {
          "output_type": "execute_result",
          "data": {
            "text/plain": [
              "(2, 3, 4)"
            ]
          },
          "metadata": {},
          "execution_count": 201
        }
      ],
      "source": [
        "t1.shape"
      ]
    },
    {
      "cell_type": "markdown",
      "metadata": {
        "id": "bcoaA7iHNX_K"
      },
      "source": [
        "By default, `transpose` reverses the order of the dimensions:"
      ]
    },
    {
      "cell_type": "code",
      "execution_count": 202,
      "metadata": {
        "id": "tqX2vNfZNX_K",
        "outputId": "8b5c979f-4d1a-40ac-829c-1e12acf68980",
        "colab": {
          "base_uri": "https://localhost:8080/"
        }
      },
      "outputs": [
        {
          "output_type": "execute_result",
          "data": {
            "text/plain": [
              "array([[[ 0,  6, 12, 18],\n",
              "        [ 3,  9, 15, 21]],\n",
              "\n",
              "       [[ 1,  7, 13, 19],\n",
              "        [ 4, 10, 16, 22]],\n",
              "\n",
              "       [[ 2,  8, 14, 20],\n",
              "        [ 5, 11, 17, 23]]])"
            ]
          },
          "metadata": {},
          "execution_count": 202
        }
      ],
      "source": [
        "t2 = t.transpose()  # equivalent to t.transpose((2, 1, 0))\n",
        "t2"
      ]
    },
    {
      "cell_type": "code",
      "execution_count": 203,
      "metadata": {
        "id": "kTrQ8nwrNX_L",
        "outputId": "71fc6eda-51e3-49c8-e2ee-41931b146618",
        "colab": {
          "base_uri": "https://localhost:8080/"
        }
      },
      "outputs": [
        {
          "output_type": "execute_result",
          "data": {
            "text/plain": [
              "(3, 2, 4)"
            ]
          },
          "metadata": {},
          "execution_count": 203
        }
      ],
      "source": [
        "t2.shape"
      ]
    },
    {
      "cell_type": "markdown",
      "metadata": {
        "id": "jOLSkjs7NX_L"
      },
      "source": [
        "NumPy provides a convenience function `swapaxes` to swap two axes. For example, let's create a new view of `t` with depth and height swapped:"
      ]
    },
    {
      "cell_type": "code",
      "execution_count": 204,
      "metadata": {
        "id": "yjaIxa_CNX_L",
        "outputId": "7d4bd260-707f-47b5-d730-cfb12a75d4c2",
        "colab": {
          "base_uri": "https://localhost:8080/"
        }
      },
      "outputs": [
        {
          "output_type": "execute_result",
          "data": {
            "text/plain": [
              "array([[[ 0,  1,  2],\n",
              "        [ 6,  7,  8],\n",
              "        [12, 13, 14],\n",
              "        [18, 19, 20]],\n",
              "\n",
              "       [[ 3,  4,  5],\n",
              "        [ 9, 10, 11],\n",
              "        [15, 16, 17],\n",
              "        [21, 22, 23]]])"
            ]
          },
          "metadata": {},
          "execution_count": 204
        }
      ],
      "source": [
        "t3 = t.swapaxes(0,1)  # equivalent to t.transpose((1, 0, 2))\n",
        "t3"
      ]
    },
    {
      "cell_type": "code",
      "execution_count": 205,
      "metadata": {
        "id": "jpoFJl4FNX_L",
        "outputId": "41f0a405-08ee-40e3-a943-e844039a4677",
        "colab": {
          "base_uri": "https://localhost:8080/"
        }
      },
      "outputs": [
        {
          "output_type": "execute_result",
          "data": {
            "text/plain": [
              "(2, 4, 3)"
            ]
          },
          "metadata": {},
          "execution_count": 205
        }
      ],
      "source": [
        "t3.shape"
      ]
    },
    {
      "cell_type": "markdown",
      "metadata": {
        "id": "akuDkA6nNX_L"
      },
      "source": [
        "# Linear algebra\n",
        "NumPy 2D arrays can be used to represent matrices efficiently in python. We will just quickly go through some of the main matrix operations available. For more details about Linear Algebra, vectors and matrics, go through the [Linear Algebra tutorial](math_linear_algebra.ipynb).\n",
        "\n",
        "## Matrix transpose\n",
        "The `T` attribute is equivalent to calling `transpose()` when the rank is ≥2:"
      ]
    },
    {
      "cell_type": "code",
      "execution_count": 206,
      "metadata": {
        "id": "67RHPO6INX_L",
        "outputId": "633196dd-225a-445b-e20a-a90c3b6f45b6",
        "colab": {
          "base_uri": "https://localhost:8080/"
        }
      },
      "outputs": [
        {
          "output_type": "execute_result",
          "data": {
            "text/plain": [
              "array([[0, 1, 2, 3, 4],\n",
              "       [5, 6, 7, 8, 9]])"
            ]
          },
          "metadata": {},
          "execution_count": 206
        }
      ],
      "source": [
        "m1 = np.arange(10).reshape(2,5)\n",
        "m1"
      ]
    },
    {
      "cell_type": "code",
      "execution_count": 207,
      "metadata": {
        "id": "aXnxyFxvNX_M",
        "outputId": "cab74876-c621-4193-8e9e-2ab6f7eb9a1c",
        "colab": {
          "base_uri": "https://localhost:8080/"
        }
      },
      "outputs": [
        {
          "output_type": "execute_result",
          "data": {
            "text/plain": [
              "array([[0, 5],\n",
              "       [1, 6],\n",
              "       [2, 7],\n",
              "       [3, 8],\n",
              "       [4, 9]])"
            ]
          },
          "metadata": {},
          "execution_count": 207
        }
      ],
      "source": [
        "m1.T"
      ]
    },
    {
      "cell_type": "markdown",
      "metadata": {
        "id": "K1jlC5bxNX_M"
      },
      "source": [
        "The `T` attribute has no effect on rank 0 (empty) or rank 1 arrays:"
      ]
    },
    {
      "cell_type": "code",
      "execution_count": 208,
      "metadata": {
        "scrolled": true,
        "id": "4OZBuws9NX_M",
        "outputId": "f8cafa65-9abf-43d1-cfa7-2b6b2af079bc",
        "colab": {
          "base_uri": "https://localhost:8080/"
        }
      },
      "outputs": [
        {
          "output_type": "execute_result",
          "data": {
            "text/plain": [
              "array([0, 1, 2, 3, 4])"
            ]
          },
          "metadata": {},
          "execution_count": 208
        }
      ],
      "source": [
        "m2 = np.arange(5)\n",
        "m2"
      ]
    },
    {
      "cell_type": "code",
      "execution_count": 209,
      "metadata": {
        "scrolled": true,
        "id": "C739GyimNX_M",
        "outputId": "7b7c03bc-4f5b-4ca8-ef45-8cc71ba348ac",
        "colab": {
          "base_uri": "https://localhost:8080/"
        }
      },
      "outputs": [
        {
          "output_type": "execute_result",
          "data": {
            "text/plain": [
              "array([0, 1, 2, 3, 4])"
            ]
          },
          "metadata": {},
          "execution_count": 209
        }
      ],
      "source": [
        "m2.T"
      ]
    },
    {
      "cell_type": "markdown",
      "metadata": {
        "id": "i4KvBAT2NX_M"
      },
      "source": [
        "We can get the desired transposition by first reshaping the 1D array to a single-row matrix (2D):"
      ]
    },
    {
      "cell_type": "code",
      "execution_count": 210,
      "metadata": {
        "id": "gUwnzoA9NX_O",
        "outputId": "d1272154-8b75-4d50-ac3b-fb6611836134",
        "colab": {
          "base_uri": "https://localhost:8080/"
        }
      },
      "outputs": [
        {
          "output_type": "execute_result",
          "data": {
            "text/plain": [
              "array([[0, 1, 2, 3, 4]])"
            ]
          },
          "metadata": {},
          "execution_count": 210
        }
      ],
      "source": [
        "m2r = m2.reshape(1,5)\n",
        "m2r"
      ]
    },
    {
      "cell_type": "code",
      "execution_count": 211,
      "metadata": {
        "id": "0yiDTP3iNX_O",
        "outputId": "7fac92d9-231a-4283-ab83-540f55056a93",
        "colab": {
          "base_uri": "https://localhost:8080/"
        }
      },
      "outputs": [
        {
          "output_type": "execute_result",
          "data": {
            "text/plain": [
              "array([[0],\n",
              "       [1],\n",
              "       [2],\n",
              "       [3],\n",
              "       [4]])"
            ]
          },
          "metadata": {},
          "execution_count": 211
        }
      ],
      "source": [
        "m2r.T"
      ]
    },
    {
      "cell_type": "markdown",
      "metadata": {
        "id": "PU14sw4XNX_P"
      },
      "source": [
        "## Matrix dot product\n",
        "Let's create two matrices and execute a matrix [dot product](https://en.wikipedia.org/wiki/Dot_product) using the `dot` method."
      ]
    },
    {
      "cell_type": "code",
      "execution_count": 212,
      "metadata": {
        "id": "1yRSiVqSNX_P",
        "outputId": "28f88310-0eef-4a13-e51b-2b2a71cc461b",
        "colab": {
          "base_uri": "https://localhost:8080/"
        }
      },
      "outputs": [
        {
          "output_type": "execute_result",
          "data": {
            "text/plain": [
              "array([[0, 1, 2, 3, 4],\n",
              "       [5, 6, 7, 8, 9]])"
            ]
          },
          "metadata": {},
          "execution_count": 212
        }
      ],
      "source": [
        "n1 = np.arange(10).reshape(2, 5)\n",
        "n1"
      ]
    },
    {
      "cell_type": "code",
      "execution_count": 213,
      "metadata": {
        "id": "YwHj7dcENX_P",
        "outputId": "ca9953a9-2e60-46b4-d296-28e6678b4105",
        "colab": {
          "base_uri": "https://localhost:8080/"
        }
      },
      "outputs": [
        {
          "output_type": "execute_result",
          "data": {
            "text/plain": [
              "array([[ 0,  1,  2],\n",
              "       [ 3,  4,  5],\n",
              "       [ 6,  7,  8],\n",
              "       [ 9, 10, 11],\n",
              "       [12, 13, 14]])"
            ]
          },
          "metadata": {},
          "execution_count": 213
        }
      ],
      "source": [
        "n2 = np.arange(15).reshape(5,3)\n",
        "n2"
      ]
    },
    {
      "cell_type": "code",
      "execution_count": 214,
      "metadata": {
        "id": "CND09_giNX_P",
        "outputId": "ffc2fe89-8747-401c-8e4a-0478dbccb6a4",
        "colab": {
          "base_uri": "https://localhost:8080/"
        }
      },
      "outputs": [
        {
          "output_type": "execute_result",
          "data": {
            "text/plain": [
              "array([[ 90, 100, 110],\n",
              "       [240, 275, 310]])"
            ]
          },
          "metadata": {},
          "execution_count": 214
        }
      ],
      "source": [
        "n1.dot(n2)"
      ]
    },
    {
      "cell_type": "markdown",
      "metadata": {
        "id": "ey3n9-rxNX_Q"
      },
      "source": [
        "**Caution**: as mentionned previously, `n1*n2` is *not* a dot product, it is an elementwise product."
      ]
    },
    {
      "cell_type": "markdown",
      "metadata": {
        "id": "W_fs__xzNX_Q"
      },
      "source": [
        "## Matrix inverse and pseudo-inverse\n",
        "Many of the linear algebra functions are available in the `numpy.linalg` module, in particular the `inv` function to compute a square matrix's inverse:"
      ]
    },
    {
      "cell_type": "code",
      "execution_count": 215,
      "metadata": {
        "id": "cGcjBmMZNX_Q",
        "outputId": "af2c41f3-680a-468f-b138-c5602ee6ec4f",
        "colab": {
          "base_uri": "https://localhost:8080/"
        }
      },
      "outputs": [
        {
          "output_type": "execute_result",
          "data": {
            "text/plain": [
              "array([[ 1,  2,  3],\n",
              "       [ 5,  7, 11],\n",
              "       [21, 29, 31]])"
            ]
          },
          "metadata": {},
          "execution_count": 215
        }
      ],
      "source": [
        "import numpy.linalg as linalg\n",
        "\n",
        "m3 = np.array([[1,2,3],[5,7,11],[21,29,31]])\n",
        "m3"
      ]
    },
    {
      "cell_type": "code",
      "execution_count": 216,
      "metadata": {
        "id": "sZNLE9lGNX_Q",
        "outputId": "272ce503-163b-4d0c-b9dc-1523938de5e3",
        "colab": {
          "base_uri": "https://localhost:8080/"
        }
      },
      "outputs": [
        {
          "output_type": "execute_result",
          "data": {
            "text/plain": [
              "array([[-2.31818182,  0.56818182,  0.02272727],\n",
              "       [ 1.72727273, -0.72727273,  0.09090909],\n",
              "       [-0.04545455,  0.29545455, -0.06818182]])"
            ]
          },
          "metadata": {},
          "execution_count": 216
        }
      ],
      "source": [
        "linalg.inv(m3)"
      ]
    },
    {
      "cell_type": "markdown",
      "metadata": {
        "id": "EUvhBGfkNX_Q"
      },
      "source": [
        "You can also compute the [pseudoinverse](https://en.wikipedia.org/wiki/Moore%E2%80%93Penrose_pseudoinverse) using `pinv`:"
      ]
    },
    {
      "cell_type": "code",
      "execution_count": 217,
      "metadata": {
        "id": "1aHK8OJSNX_R",
        "outputId": "481eb96e-0691-4cf5-8eb4-616c47bdcc0a",
        "colab": {
          "base_uri": "https://localhost:8080/"
        }
      },
      "outputs": [
        {
          "output_type": "execute_result",
          "data": {
            "text/plain": [
              "array([[-2.31818182,  0.56818182,  0.02272727],\n",
              "       [ 1.72727273, -0.72727273,  0.09090909],\n",
              "       [-0.04545455,  0.29545455, -0.06818182]])"
            ]
          },
          "metadata": {},
          "execution_count": 217
        }
      ],
      "source": [
        "linalg.pinv(m3)"
      ]
    },
    {
      "cell_type": "markdown",
      "metadata": {
        "id": "5pcCpiIONX_R"
      },
      "source": [
        "## Identity matrix\n",
        "The product of a matrix by its inverse returns the identiy matrix (with small floating point errors):"
      ]
    },
    {
      "cell_type": "code",
      "execution_count": 218,
      "metadata": {
        "id": "m_Kqpo9UNX_R",
        "outputId": "8816289d-a407-4f91-cc77-6ee8d1f5f0db",
        "colab": {
          "base_uri": "https://localhost:8080/"
        }
      },
      "outputs": [
        {
          "output_type": "execute_result",
          "data": {
            "text/plain": [
              "array([[ 1.00000000e+00, -1.66533454e-16,  0.00000000e+00],\n",
              "       [ 6.31439345e-16,  1.00000000e+00, -1.38777878e-16],\n",
              "       [ 5.21110932e-15, -2.38697950e-15,  1.00000000e+00]])"
            ]
          },
          "metadata": {},
          "execution_count": 218
        }
      ],
      "source": [
        "m3.dot(linalg.inv(m3))"
      ]
    },
    {
      "cell_type": "markdown",
      "metadata": {
        "id": "WNszfPJrNX_R"
      },
      "source": [
        "You can create an identity matrix of size NxN by calling `eye`:"
      ]
    },
    {
      "cell_type": "code",
      "execution_count": 219,
      "metadata": {
        "id": "my-qGB1BNX_S",
        "outputId": "66aedf5f-66b7-466b-8137-625a64696989",
        "colab": {
          "base_uri": "https://localhost:8080/"
        }
      },
      "outputs": [
        {
          "output_type": "execute_result",
          "data": {
            "text/plain": [
              "array([[1., 0., 0.],\n",
              "       [0., 1., 0.],\n",
              "       [0., 0., 1.]])"
            ]
          },
          "metadata": {},
          "execution_count": 219
        }
      ],
      "source": [
        "np.eye(3)"
      ]
    },
    {
      "cell_type": "markdown",
      "metadata": {
        "id": "rylQktDSNX_S"
      },
      "source": [
        "## QR decomposition\n",
        "The `qr` function computes the [QR decomposition](https://en.wikipedia.org/wiki/QR_decomposition) of a matrix:"
      ]
    },
    {
      "cell_type": "code",
      "execution_count": 220,
      "metadata": {
        "id": "s8vGGX1yNX_S",
        "outputId": "aa311aba-2cbc-408c-f279-d3db0f455d0d",
        "colab": {
          "base_uri": "https://localhost:8080/"
        }
      },
      "outputs": [
        {
          "output_type": "execute_result",
          "data": {
            "text/plain": [
              "array([[-0.04627448,  0.98786672,  0.14824986],\n",
              "       [-0.23137241,  0.13377362, -0.96362411],\n",
              "       [-0.97176411, -0.07889213,  0.22237479]])"
            ]
          },
          "metadata": {},
          "execution_count": 220
        }
      ],
      "source": [
        "q, r = linalg.qr(m3)\n",
        "q"
      ]
    },
    {
      "cell_type": "code",
      "execution_count": 221,
      "metadata": {
        "id": "Q8wEXBdZNX_S",
        "outputId": "a5308b78-e32e-47bc-ccda-b10f485d3745",
        "colab": {
          "base_uri": "https://localhost:8080/"
        }
      },
      "outputs": [
        {
          "output_type": "execute_result",
          "data": {
            "text/plain": [
              "array([[-21.61018278, -29.89331494, -32.80860727],\n",
              "       [  0.        ,   0.62427688,   1.9894538 ],\n",
              "       [  0.        ,   0.        ,  -3.26149699]])"
            ]
          },
          "metadata": {},
          "execution_count": 221
        }
      ],
      "source": [
        "r"
      ]
    },
    {
      "cell_type": "code",
      "execution_count": 222,
      "metadata": {
        "id": "9nxO4-N4NX_S",
        "outputId": "78973ea3-1285-47a7-8299-e78d40a37551",
        "colab": {
          "base_uri": "https://localhost:8080/"
        }
      },
      "outputs": [
        {
          "output_type": "execute_result",
          "data": {
            "text/plain": [
              "array([[ 1.,  2.,  3.],\n",
              "       [ 5.,  7., 11.],\n",
              "       [21., 29., 31.]])"
            ]
          },
          "metadata": {},
          "execution_count": 222
        }
      ],
      "source": [
        "q.dot(r)  # q.r equals m3"
      ]
    },
    {
      "cell_type": "markdown",
      "metadata": {
        "id": "qqSG7EqPNX_T"
      },
      "source": [
        "## Determinant\n",
        "The `det` function computes the [matrix determinant](https://en.wikipedia.org/wiki/Determinant):"
      ]
    },
    {
      "cell_type": "code",
      "execution_count": 223,
      "metadata": {
        "id": "zUket0kBNX_T",
        "outputId": "99cf0dfa-cb34-4c24-f199-f4a87c16125a",
        "colab": {
          "base_uri": "https://localhost:8080/"
        }
      },
      "outputs": [
        {
          "output_type": "execute_result",
          "data": {
            "text/plain": [
              "np.float64(43.99999999999997)"
            ]
          },
          "metadata": {},
          "execution_count": 223
        }
      ],
      "source": [
        "linalg.det(m3)  # Computes the matrix determinant"
      ]
    },
    {
      "cell_type": "markdown",
      "metadata": {
        "id": "DFyR_j3nNX_T"
      },
      "source": [
        "## Eigenvalues and eigenvectors\n",
        "The `eig` function computes the [eigenvalues and eigenvectors](https://en.wikipedia.org/wiki/Eigenvalues_and_eigenvectors) of a square matrix:"
      ]
    },
    {
      "cell_type": "code",
      "execution_count": 224,
      "metadata": {
        "id": "xGv1TTjBNX_T",
        "outputId": "7269acf8-c627-4089-eaaa-9c90cb8fa5ee",
        "colab": {
          "base_uri": "https://localhost:8080/"
        }
      },
      "outputs": [
        {
          "output_type": "execute_result",
          "data": {
            "text/plain": [
              "array([42.26600592, -0.35798416, -2.90802176])"
            ]
          },
          "metadata": {},
          "execution_count": 224
        }
      ],
      "source": [
        "eigenvalues, eigenvectors = linalg.eig(m3)\n",
        "eigenvalues # λ"
      ]
    },
    {
      "cell_type": "code",
      "execution_count": 225,
      "metadata": {
        "id": "TQKHVVvTNX_T",
        "outputId": "66eb648c-443a-45a1-b0e3-9ee0f3b41fe4",
        "colab": {
          "base_uri": "https://localhost:8080/"
        }
      },
      "outputs": [
        {
          "output_type": "execute_result",
          "data": {
            "text/plain": [
              "array([[-0.08381182, -0.76283526, -0.18913107],\n",
              "       [-0.3075286 ,  0.64133975, -0.6853186 ],\n",
              "       [-0.94784057, -0.08225377,  0.70325518]])"
            ]
          },
          "metadata": {},
          "execution_count": 225
        }
      ],
      "source": [
        "eigenvectors # v"
      ]
    },
    {
      "cell_type": "code",
      "execution_count": 226,
      "metadata": {
        "id": "b0Uux5oRNX_U",
        "outputId": "0d09a910-9036-4455-e2ea-ad7bda8421b0",
        "colab": {
          "base_uri": "https://localhost:8080/"
        }
      },
      "outputs": [
        {
          "output_type": "execute_result",
          "data": {
            "text/plain": [
              "array([[ 6.21724894e-15,  1.66533454e-15, -3.10862447e-15],\n",
              "       [ 3.55271368e-15,  5.30131494e-15, -5.32907052e-15],\n",
              "       [ 3.55271368e-14,  5.38458167e-15, -9.76996262e-15]])"
            ]
          },
          "metadata": {},
          "execution_count": 226
        }
      ],
      "source": [
        "m3.dot(eigenvectors) - eigenvalues * eigenvectors  # m3.v - λ*v = 0"
      ]
    },
    {
      "cell_type": "markdown",
      "metadata": {
        "id": "zGUOJNM3NX_U"
      },
      "source": [
        "## Singular Value Decomposition\n",
        "The `svd` function takes a matrix and returns its [singular value decomposition](https://en.wikipedia.org/wiki/Singular_value_decomposition):"
      ]
    },
    {
      "cell_type": "code",
      "execution_count": 227,
      "metadata": {
        "id": "nZlQi7MTNX_U",
        "outputId": "80e0e09d-06e4-4ee7-ec33-1d9e3ef1ff79",
        "colab": {
          "base_uri": "https://localhost:8080/"
        }
      },
      "outputs": [
        {
          "output_type": "execute_result",
          "data": {
            "text/plain": [
              "array([[1, 0, 0, 0, 2],\n",
              "       [0, 0, 3, 0, 0],\n",
              "       [0, 0, 0, 0, 0],\n",
              "       [0, 2, 0, 0, 0]])"
            ]
          },
          "metadata": {},
          "execution_count": 227
        }
      ],
      "source": [
        "m4 = np.array([[1,0,0,0,2], [0,0,3,0,0], [0,0,0,0,0], [0,2,0,0,0]])\n",
        "m4"
      ]
    },
    {
      "cell_type": "code",
      "execution_count": 228,
      "metadata": {
        "id": "L__VCMGPNX_U",
        "outputId": "dead95a9-dacc-4c79-abf9-ff65e3762ea2",
        "colab": {
          "base_uri": "https://localhost:8080/"
        }
      },
      "outputs": [
        {
          "output_type": "execute_result",
          "data": {
            "text/plain": [
              "array([[ 0.,  1.,  0.,  0.],\n",
              "       [ 1.,  0.,  0.,  0.],\n",
              "       [ 0.,  0.,  0.,  1.],\n",
              "       [ 0.,  0., -1.,  0.]])"
            ]
          },
          "metadata": {},
          "execution_count": 228
        }
      ],
      "source": [
        "U, S_diag, V = linalg.svd(m4)\n",
        "U"
      ]
    },
    {
      "cell_type": "code",
      "execution_count": 229,
      "metadata": {
        "id": "wAbqa7hKNX_U",
        "outputId": "8dcf6eeb-6a7d-430c-ebb8-4e96a723a47f",
        "colab": {
          "base_uri": "https://localhost:8080/"
        }
      },
      "outputs": [
        {
          "output_type": "execute_result",
          "data": {
            "text/plain": [
              "array([3.        , 2.23606798, 2.        , 0.        ])"
            ]
          },
          "metadata": {},
          "execution_count": 229
        }
      ],
      "source": [
        "S_diag"
      ]
    },
    {
      "cell_type": "markdown",
      "metadata": {
        "id": "AfEwgLC5NX_V"
      },
      "source": [
        "The `svd` function just returns the values in the diagonal of Σ, but we want the full Σ matrix, so let's create it:"
      ]
    },
    {
      "cell_type": "code",
      "execution_count": 230,
      "metadata": {
        "id": "GcPxuTJaNX_V",
        "outputId": "8b0b6b5b-2d71-4af5-c60a-eceee72b0619",
        "colab": {
          "base_uri": "https://localhost:8080/"
        }
      },
      "outputs": [
        {
          "output_type": "execute_result",
          "data": {
            "text/plain": [
              "array([[3.        , 0.        , 0.        , 0.        , 0.        ],\n",
              "       [0.        , 2.23606798, 0.        , 0.        , 0.        ],\n",
              "       [0.        , 0.        , 2.        , 0.        , 0.        ],\n",
              "       [0.        , 0.        , 0.        , 0.        , 0.        ]])"
            ]
          },
          "metadata": {},
          "execution_count": 230
        }
      ],
      "source": [
        "S = np.zeros((4, 5))\n",
        "S[np.diag_indices(4)] = S_diag\n",
        "S  # Σ"
      ]
    },
    {
      "cell_type": "code",
      "execution_count": 231,
      "metadata": {
        "id": "GE0c5AxPNX_V",
        "outputId": "c9226f78-2b7f-4d3a-94ca-46269b3f958c",
        "colab": {
          "base_uri": "https://localhost:8080/"
        }
      },
      "outputs": [
        {
          "output_type": "execute_result",
          "data": {
            "text/plain": [
              "array([[-0.        ,  0.        ,  1.        , -0.        ,  0.        ],\n",
              "       [ 0.4472136 ,  0.        ,  0.        ,  0.        ,  0.89442719],\n",
              "       [ 0.        , -1.        ,  0.        ,  0.        ,  0.        ],\n",
              "       [ 0.        ,  0.        ,  0.        ,  1.        ,  0.        ],\n",
              "       [-0.89442719,  0.        ,  0.        ,  0.        ,  0.4472136 ]])"
            ]
          },
          "metadata": {},
          "execution_count": 231
        }
      ],
      "source": [
        "V"
      ]
    },
    {
      "cell_type": "code",
      "execution_count": 232,
      "metadata": {
        "id": "tHCh5dU7NX_V",
        "outputId": "4b6e30d0-4594-4f8d-a0e0-3e317f6d2ddc",
        "colab": {
          "base_uri": "https://localhost:8080/"
        }
      },
      "outputs": [
        {
          "output_type": "execute_result",
          "data": {
            "text/plain": [
              "array([[1., 0., 0., 0., 2.],\n",
              "       [0., 0., 3., 0., 0.],\n",
              "       [0., 0., 0., 0., 0.],\n",
              "       [0., 2., 0., 0., 0.]])"
            ]
          },
          "metadata": {},
          "execution_count": 232
        }
      ],
      "source": [
        "U.dot(S).dot(V) # U.Σ.V == m4"
      ]
    },
    {
      "cell_type": "markdown",
      "metadata": {
        "id": "b3CEE6kLNX_V"
      },
      "source": [
        "## Diagonal and trace"
      ]
    },
    {
      "cell_type": "code",
      "execution_count": 233,
      "metadata": {
        "id": "q_T_QXylNX_V",
        "outputId": "cb7cf892-da77-43d3-a6d7-d2b657b560ef",
        "colab": {
          "base_uri": "https://localhost:8080/"
        }
      },
      "outputs": [
        {
          "output_type": "execute_result",
          "data": {
            "text/plain": [
              "array([ 1,  7, 31])"
            ]
          },
          "metadata": {},
          "execution_count": 233
        }
      ],
      "source": [
        "np.diag(m3)  # the values in the diagonal of m3 (top left to bottom right)"
      ]
    },
    {
      "cell_type": "code",
      "execution_count": 234,
      "metadata": {
        "id": "oJrAMBsxNX_W",
        "outputId": "fa1f4c72-4749-4c40-bf4a-991b64dedeae",
        "colab": {
          "base_uri": "https://localhost:8080/"
        }
      },
      "outputs": [
        {
          "output_type": "execute_result",
          "data": {
            "text/plain": [
              "np.int64(39)"
            ]
          },
          "metadata": {},
          "execution_count": 234
        }
      ],
      "source": [
        "np.trace(m3)  # equivalent to np.diag(m3).sum()"
      ]
    },
    {
      "cell_type": "markdown",
      "metadata": {
        "id": "BvDl7fIINX_W"
      },
      "source": [
        "## Solving a system of linear scalar equations"
      ]
    },
    {
      "cell_type": "markdown",
      "metadata": {
        "id": "ksa8zMt4NX_W"
      },
      "source": [
        "The `solve` function solves a system of linear scalar equations, such as:\n",
        "\n",
        "* $2x + 6y = 6$\n",
        "* $5x + 3y = -9$"
      ]
    },
    {
      "cell_type": "code",
      "execution_count": 235,
      "metadata": {
        "id": "5xbUtm1kNX_W",
        "outputId": "e7e93777-337c-4189-ec1d-075dc2abd3cc",
        "colab": {
          "base_uri": "https://localhost:8080/"
        }
      },
      "outputs": [
        {
          "output_type": "execute_result",
          "data": {
            "text/plain": [
              "array([-3.,  2.])"
            ]
          },
          "metadata": {},
          "execution_count": 235
        }
      ],
      "source": [
        "coeffs  = np.array([[2, 6], [5, 3]])\n",
        "depvars = np.array([6, -9])\n",
        "solution = linalg.solve(coeffs, depvars)\n",
        "solution"
      ]
    },
    {
      "cell_type": "markdown",
      "metadata": {
        "id": "XwaNj2o7NX_W"
      },
      "source": [
        "Let's check the solution:"
      ]
    },
    {
      "cell_type": "code",
      "execution_count": 236,
      "metadata": {
        "id": "cUeAQJQjNX_W",
        "outputId": "3e16699e-c0bf-4259-9dca-1fbeef3ee385",
        "colab": {
          "base_uri": "https://localhost:8080/"
        }
      },
      "outputs": [
        {
          "output_type": "execute_result",
          "data": {
            "text/plain": [
              "(array([ 6., -9.]), array([ 6, -9]))"
            ]
          },
          "metadata": {},
          "execution_count": 236
        }
      ],
      "source": [
        "coeffs.dot(solution), depvars  # yep, it's the same"
      ]
    },
    {
      "cell_type": "markdown",
      "metadata": {
        "id": "EHtc6G4RNX_X"
      },
      "source": [
        "Looks good! Another way to check the solution:"
      ]
    },
    {
      "cell_type": "code",
      "execution_count": 237,
      "metadata": {
        "scrolled": true,
        "id": "Vjdzp_RWNX_X",
        "outputId": "c26b9009-fd64-4526-d0a0-44b96d70ffe7",
        "colab": {
          "base_uri": "https://localhost:8080/"
        }
      },
      "outputs": [
        {
          "output_type": "execute_result",
          "data": {
            "text/plain": [
              "True"
            ]
          },
          "metadata": {},
          "execution_count": 237
        }
      ],
      "source": [
        "np.allclose(coeffs.dot(solution), depvars)"
      ]
    },
    {
      "cell_type": "markdown",
      "metadata": {
        "id": "xxmGMNbeNX_X"
      },
      "source": [
        "# Vectorization\n",
        "Instead of executing operations on individual array items, one at a time, your code is much more efficient if you try to stick to array operations. This is called *vectorization*. This way, you can benefit from NumPy's many optimizations.\n",
        "\n",
        "For example, let's say we want to generate a 768x1024 array based on the formula $sin(xy/40.5)$. A **bad** option would be to do the math in python using nested loops:"
      ]
    },
    {
      "cell_type": "code",
      "execution_count": 238,
      "metadata": {
        "id": "5OnPM5YLNX_X"
      },
      "outputs": [],
      "source": [
        "import math\n",
        "data = np.empty((768, 1024))\n",
        "for y in range(768):\n",
        "    for x in range(1024):\n",
        "        data[y, x] = math.sin(x*y/40.5)  # BAD! Very inefficient."
      ]
    },
    {
      "cell_type": "markdown",
      "metadata": {
        "id": "P6YXh4tnNX_X"
      },
      "source": [
        "Sure, this works, but it's terribly inefficient since the loops are taking place in pure python. Let's vectorize this algorithm. First, we will use NumPy's `meshgrid` function which generates coordinate matrices from coordinate vectors."
      ]
    },
    {
      "cell_type": "code",
      "execution_count": 239,
      "metadata": {
        "id": "ol0BOdi0NX_X",
        "outputId": "73b4e1e8-9151-4d8e-cc1f-aea23931fb68",
        "colab": {
          "base_uri": "https://localhost:8080/"
        }
      },
      "outputs": [
        {
          "output_type": "execute_result",
          "data": {
            "text/plain": [
              "array([[   0,    1,    2, ..., 1021, 1022, 1023],\n",
              "       [   0,    1,    2, ..., 1021, 1022, 1023],\n",
              "       [   0,    1,    2, ..., 1021, 1022, 1023],\n",
              "       ...,\n",
              "       [   0,    1,    2, ..., 1021, 1022, 1023],\n",
              "       [   0,    1,    2, ..., 1021, 1022, 1023],\n",
              "       [   0,    1,    2, ..., 1021, 1022, 1023]])"
            ]
          },
          "metadata": {},
          "execution_count": 239
        }
      ],
      "source": [
        "x_coords = np.arange(0, 1024)  # [0, 1, 2, ..., 1023]\n",
        "y_coords = np.arange(0, 768)   # [0, 1, 2, ..., 767]\n",
        "X, Y = np.meshgrid(x_coords, y_coords)\n",
        "X"
      ]
    },
    {
      "cell_type": "code",
      "execution_count": 240,
      "metadata": {
        "id": "EAISvd_uNX_X",
        "outputId": "e5cb8557-c343-409b-facd-54f68c0aef12",
        "colab": {
          "base_uri": "https://localhost:8080/"
        }
      },
      "outputs": [
        {
          "output_type": "execute_result",
          "data": {
            "text/plain": [
              "array([[  0,   0,   0, ...,   0,   0,   0],\n",
              "       [  1,   1,   1, ...,   1,   1,   1],\n",
              "       [  2,   2,   2, ...,   2,   2,   2],\n",
              "       ...,\n",
              "       [765, 765, 765, ..., 765, 765, 765],\n",
              "       [766, 766, 766, ..., 766, 766, 766],\n",
              "       [767, 767, 767, ..., 767, 767, 767]])"
            ]
          },
          "metadata": {},
          "execution_count": 240
        }
      ],
      "source": [
        "Y"
      ]
    },
    {
      "cell_type": "markdown",
      "metadata": {
        "id": "k1EyGKagNX_Y"
      },
      "source": [
        "As you can see, both `X` and `Y` are 768x1024 arrays, and all values in `X` correspond to the horizontal coordinate, while all values in `Y` correspond to the the vertical coordinate.\n",
        "\n",
        "Now we can simply compute the result using array operations:"
      ]
    },
    {
      "cell_type": "code",
      "execution_count": 241,
      "metadata": {
        "id": "l6zgXlOwNX_Y"
      },
      "outputs": [],
      "source": [
        "data = np.sin(X*Y/40.5)"
      ]
    },
    {
      "cell_type": "markdown",
      "metadata": {
        "id": "HOJK-q5rNX_Y"
      },
      "source": [
        "Now we can plot this data using matplotlib's `imshow` function (see the [matplotlib tutorial](tools_matplotlib.ipynb))."
      ]
    },
    {
      "cell_type": "code",
      "execution_count": 242,
      "metadata": {
        "id": "RnwsUMV0NX_Y",
        "outputId": "ebde8698-d0af-4523-feca-e1c3296a2328",
        "colab": {
          "base_uri": "https://localhost:8080/",
          "height": 472
        }
      },
      "outputs": [
        {
          "output_type": "display_data",
          "data": {
            "text/plain": [
              "<Figure size 700x600 with 1 Axes>"
            ],
            "image/png": "[encoded data removed]"
          },
          "metadata": {}
        }
      ],
      "source": [
        "import matplotlib.pyplot as plt\n",
        "import matplotlib.cm as cm\n",
        "fig = plt.figure(1, figsize=(7, 6))\n",
        "plt.imshow(data, cmap=cm.hot, interpolation=\"bicubic\")\n",
        "plt.show()"
      ]
    },
    {
      "cell_type": "markdown",
      "metadata": {
        "id": "LAIbQxhRNX_Y"
      },
      "source": [
        "# Saving and loading\n",
        "NumPy makes it easy to save and load `ndarray`s in binary or text format.\n",
        "\n",
        "## Binary `.npy` format\n",
        "Let's create a random array and save it."
      ]
    },
    {
      "cell_type": "code",
      "execution_count": 243,
      "metadata": {
        "scrolled": true,
        "id": "dSUE0WrLNX_Y",
        "outputId": "6729ced9-d16b-4a47-a1dd-dc5a596c00a8",
        "colab": {
          "base_uri": "https://localhost:8080/"
        }
      },
      "outputs": [
        {
          "output_type": "execute_result",
          "data": {
            "text/plain": [
              "array([[0.79954603, 0.04583154, 0.63775969],\n",
              "       [0.33885758, 0.21324534, 0.19239494]])"
            ]
          },
          "metadata": {},
          "execution_count": 243
        }
      ],
      "source": [
        "a = np.random.rand(2,3)\n",
        "a"
      ]
    },
    {
      "cell_type": "code",
      "execution_count": 244,
      "metadata": {
        "id": "PBq0GPMMNX_Z"
      },
      "outputs": [],
      "source": [
        "np.save(\"my_array\", a)"
      ]
    },
    {
      "cell_type": "markdown",
      "metadata": {
        "id": "5VBfM645NX_Z"
      },
      "source": [
        "Done! Since the file name contains no file extension was provided, NumPy automatically added `.npy`. Let's take a peek at the file content:"
      ]
    },
    {
      "cell_type": "code",
      "execution_count": 245,
      "metadata": {
        "id": "WdgdMP0CNX_Z",
        "outputId": "52893758-1af0-4671-9a10-1c4d6a110b0d",
        "colab": {
          "base_uri": "https://localhost:8080/"
        }
      },
      "outputs": [
        {
          "output_type": "execute_result",
          "data": {
            "text/plain": [
              "b\"\\x93NUMPY\\x01\\x00v\\x00{'descr': '<f8', 'fortran_order': False, 'shape': (2, 3), }                                                          \\nm(r\\x90\\xe1\\x95\\xe9?`F\\xd4W;w\\xa7?J\\xe9\\xdf\\x00\\x87h\\xe4?$\\xbc\\xda\\xb7\\xd7\\xaf\\xd5?\\x98\\xc4\\xe6\\x94\\x9fK\\xcb?x\\xb1\\xd1\\xc3e\\xa0\\xc8?\""
            ]
          },
          "metadata": {},
          "execution_count": 245
        }
      ],
      "source": [
        "with open(\"my_array.npy\", \"rb\") as f:\n",
        "    content = f.read()\n",
        "\n",
        "content"
      ]
    },
    {
      "cell_type": "markdown",
      "metadata": {
        "id": "YpwT_61ZNX_Z"
      },
      "source": [
        "To load this file into a NumPy array, simply call `load`:"
      ]
    },
    {
      "cell_type": "code",
      "execution_count": 246,
      "metadata": {
        "id": "_g2RY-b3NX_Z",
        "outputId": "19a1c08a-633b-4225-fd7c-36b0664eaf38",
        "colab": {
          "base_uri": "https://localhost:8080/"
        }
      },
      "outputs": [
        {
          "output_type": "execute_result",
          "data": {
            "text/plain": [
              "array([[0.79954603, 0.04583154, 0.63775969],\n",
              "       [0.33885758, 0.21324534, 0.19239494]])"
            ]
          },
          "metadata": {},
          "execution_count": 246
        }
      ],
      "source": [
        "a_loaded = np.load(\"my_array.npy\")\n",
        "a_loaded"
      ]
    },
    {
      "cell_type": "markdown",
      "metadata": {
        "id": "srAj8TexNX_Z"
      },
      "source": [
        "## Text format\n",
        "Let's try saving the array in text format:"
      ]
    },
    {
      "cell_type": "code",
      "execution_count": 247,
      "metadata": {
        "id": "990VMWuPNX_Z"
      },
      "outputs": [],
      "source": [
        "np.savetxt(\"my_array.csv\", a)"
      ]
    },
    {
      "cell_type": "markdown",
      "metadata": {
        "id": "A-O7MXcaNX_a"
      },
      "source": [
        "Now let's look at the file content:"
      ]
    },
    {
      "cell_type": "code",
      "execution_count": 248,
      "metadata": {
        "id": "U4AgJ909NX_a",
        "outputId": "0e0c8416-65ba-4b9a-e471-0dbd5d1b260e",
        "colab": {
          "base_uri": "https://localhost:8080/"
        }
      },
      "outputs": [
        {
          "output_type": "stream",
          "name": "stdout",
          "text": [
            "7.995460339746053302e-01 4.583154151090407247e-02 6.377596871455264438e-01\n",
            "3.388575835660410096e-01 2.132453419740485412e-01 1.923949438236254306e-01\n",
            "\n"
          ]
        }
      ],
      "source": [
        "with open(\"my_array.csv\", \"rt\") as f:\n",
        "    print(f.read())"
      ]
    },
    {
      "cell_type": "markdown",
      "metadata": {
        "id": "nAbp5UagNX_a"
      },
      "source": [
        "This is a CSV file with tabs as delimiters. You can set a different delimiter:"
      ]
    },
    {
      "cell_type": "code",
      "execution_count": 249,
      "metadata": {
        "collapsed": true,
        "id": "Pc_FKKa5NX_a"
      },
      "outputs": [],
      "source": [
        "np.savetxt(\"my_array.csv\", a, delimiter=\",\")"
      ]
    },
    {
      "cell_type": "markdown",
      "metadata": {
        "id": "B7SJ5-PTNX_a"
      },
      "source": [
        "To load this file, just use `loadtxt`:"
      ]
    },
    {
      "cell_type": "code",
      "execution_count": 250,
      "metadata": {
        "id": "JIhZ5ogENX_a",
        "outputId": "d89347fa-f092-4532-892d-6dc2b67d20c0",
        "colab": {
          "base_uri": "https://localhost:8080/"
        }
      },
      "outputs": [
        {
          "output_type": "execute_result",
          "data": {
            "text/plain": [
              "array([[0.79954603, 0.04583154, 0.63775969],\n",
              "       [0.33885758, 0.21324534, 0.19239494]])"
            ]
          },
          "metadata": {},
          "execution_count": 250
        }
      ],
      "source": [
        "a_loaded = np.loadtxt(\"my_array.csv\", delimiter=\",\")\n",
        "a_loaded"
      ]
    },
    {
      "cell_type": "markdown",
      "metadata": {
        "id": "DOF6Gpv1NX_a"
      },
      "source": [
        "## Zipped `.npz` format\n",
        "It is also possible to save multiple arrays in one zipped file:"
      ]
    },
    {
      "cell_type": "code",
      "execution_count": 251,
      "metadata": {
        "id": "g1wkBvj7NX_b",
        "outputId": "436901b0-3b78-4dc8-b689-30d9a78f23da",
        "colab": {
          "base_uri": "https://localhost:8080/"
        }
      },
      "outputs": [
        {
          "output_type": "execute_result",
          "data": {
            "text/plain": [
              "array([[[ 0,  1,  2,  3],\n",
              "        [ 4,  5,  6,  7],\n",
              "        [ 8,  9, 10, 11]],\n",
              "\n",
              "       [[12, 13, 14, 15],\n",
              "        [16, 17, 18, 19],\n",
              "        [20, 21, 22, 23]]], dtype=uint8)"
            ]
          },
          "metadata": {},
          "execution_count": 251
        }
      ],
      "source": [
        "b = np.arange(24, dtype=np.uint8).reshape(2, 3, 4)\n",
        "b"
      ]
    },
    {
      "cell_type": "code",
      "execution_count": 252,
      "metadata": {
        "collapsed": true,
        "id": "XH6o6677NX_b"
      },
      "outputs": [],
      "source": [
        "np.savez(\"my_arrays\", my_a=a, my_b=b)"
      ]
    },
    {
      "cell_type": "markdown",
      "metadata": {
        "id": "cCmC3hRBNX_b"
      },
      "source": [
        "Again, let's take a peek at the file content. Note that the `.npz` file extension was automatically added."
      ]
    },
    {
      "cell_type": "code",
      "execution_count": 253,
      "metadata": {
        "id": "3bMB9fFRNX_b",
        "outputId": "79be2aff-b829-420c-ad6c-a35a085e7afe",
        "colab": {
          "base_uri": "https://localhost:8080/",
          "height": 72
        }
      },
      "outputs": [
        {
          "output_type": "execute_result",
          "data": {
            "text/plain": [
              "'b\"PK\\\\x03\\\\x04-\\\\x00\\\\x00\\\\x00\\\\x00\\\\x00\\\\x00\\\\x00!\\\\x00\\\\xce\\\\xb7L^\\\\xff\\\\xff\\\\xff\\\\xff\\\\xff\\\\xff\\\\xff\\\\xff\\\\x08\\\\x00\\\\x14\\\\x00my_a.npy\\\\x01\\\\x00\\\\x10\\\\x00\\\\xb0\\\\x00\\\\x00\\\\x00\\\\x00\\\\x00\\\\x00\\\\x00\\\\xb0\\\\x00\\\\x00\\\\x00\\\\x00[...]'"
            ],
            "application/vnd.google.colaboratory.intrinsic+json": {
              "type": "string"
            }
          },
          "metadata": {},
          "execution_count": 253
        }
      ],
      "source": [
        "with open(\"my_arrays.npz\", \"rb\") as f:\n",
        "    content = f.read()\n",
        "\n",
        "repr(content)[:180] + \"[...]\""
      ]
    },
    {
      "cell_type": "markdown",
      "metadata": {
        "id": "5j_CGmf8NX_b"
      },
      "source": [
        "You then load this file like so:"
      ]
    },
    {
      "cell_type": "code",
      "execution_count": 254,
      "metadata": {
        "id": "N-uNZNMANX_b",
        "outputId": "46f0ec1b-e3a5-4deb-e24a-f95cf92643f6",
        "colab": {
          "base_uri": "https://localhost:8080/"
        }
      },
      "outputs": [
        {
          "output_type": "execute_result",
          "data": {
            "text/plain": [
              "NpzFile 'my_arrays.npz' with keys: my_a, my_b"
            ]
          },
          "metadata": {},
          "execution_count": 254
        }
      ],
      "source": [
        "my_arrays = np.load(\"my_arrays.npz\")\n",
        "my_arrays"
      ]
    },
    {
      "cell_type": "markdown",
      "metadata": {
        "id": "Nrn3tKieNX_c"
      },
      "source": [
        "This is a dict-like object which loads the arrays lazily:"
      ]
    },
    {
      "cell_type": "code",
      "execution_count": 255,
      "metadata": {
        "id": "nWzJFZueNX_c",
        "outputId": "75078bd7-13e3-4c1a-9e7f-fc20717b0259",
        "colab": {
          "base_uri": "https://localhost:8080/"
        }
      },
      "outputs": [
        {
          "output_type": "execute_result",
          "data": {
            "text/plain": [
              "KeysView(NpzFile 'my_arrays.npz' with keys: my_a, my_b)"
            ]
          },
          "metadata": {},
          "execution_count": 255
        }
      ],
      "source": [
        "my_arrays.keys()"
      ]
    },
    {
      "cell_type": "code",
      "execution_count": 256,
      "metadata": {
        "id": "o7XtKBxuNX_c",
        "outputId": "251f0300-e033-4c01-d574-7fb849ccf88b",
        "colab": {
          "base_uri": "https://localhost:8080/"
        }
      },
      "outputs": [
        {
          "output_type": "execute_result",
          "data": {
            "text/plain": [
              "array([[0.79954603, 0.04583154, 0.63775969],\n",
              "       [0.33885758, 0.21324534, 0.19239494]])"
            ]
          },
          "metadata": {},
          "execution_count": 256
        }
      ],
      "source": [
        "my_arrays[\"my_a\"]"
      ]
    },
    {
      "cell_type": "markdown",
      "metadata": {
        "id": "CdymqcEQNX_c"
      },
      "source": [
        "# What next?\n",
        "Now you know all the fundamentals of NumPy, but there are many more options available. The best way to learn more is to experiment with NumPy, and go through the excellent [reference documentation](http://docs.scipy.org/doc/numpy/reference/index.html) to find more functions and features you may be interested in."
      ]
    }
  ],
  "metadata": {
    "kernelspec": {
      "display_name": "Python 2",
      "language": "python",
      "name": "python2"
    },
    "language_info": {
      "codemirror_mode": {
        "name": "ipython",
        "version": 2
      },
      "file_extension": ".py",
      "mimetype": "text/x-python",
      "name": "python",
      "nbconvert_exporter": "python",
      "pygments_lexer": "ipython2",
      "version": "2.7.11"
    },
    "toc": {
      "toc_cell": false,
      "toc_number_sections": true,
      "toc_section_display": "block",
      "toc_threshold": 6,
      "toc_window_display": false
    },
    "toc_position": {
      "height": "677px",
      "left": "1195.02px",
      "right": "20px",
      "top": "78px",
      "width": "238px"
    },
    "colab": {
      "name": "tools_numpy.ipynb",
      "provenance": [],
      "include_colab_link": true
    }
  },
  "nbformat": 4,
  "nbformat_minor": 0
}